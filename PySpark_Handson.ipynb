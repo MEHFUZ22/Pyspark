{
  "nbformat": 4,
  "nbformat_minor": 0,
  "metadata": {
    "colab": {
      "provenance": [],
      "authorship_tag": "ABX9TyPH6tk1tzmmJd7ckPHMsrZL",
      "include_colab_link": true
    },
    "kernelspec": {
      "name": "python3",
      "display_name": "Python 3"
    },
    "language_info": {
      "name": "python"
    }
  },
  "cells": [
    {
      "cell_type": "markdown",
      "metadata": {
        "id": "view-in-github",
        "colab_type": "text"
      },
      "source": [
        "<a href=\"https://colab.research.google.com/github/MEHFUZ22/Pyspark/blob/main/PySpark_Handson.ipynb\" target=\"_parent\"><img src=\"https://colab.research.google.com/assets/colab-badge.svg\" alt=\"Open In Colab\"/></a>"
      ]
    },
    {
      "cell_type": "code",
      "execution_count": 1,
      "metadata": {
        "colab": {
          "base_uri": "https://localhost:8080/"
        },
        "id": "oILJKLeJdebD",
        "outputId": "5c2a4057-8bbf-46b5-c35c-ef7000c6ad88"
      },
      "outputs": [
        {
          "output_type": "stream",
          "name": "stdout",
          "text": [
            "Collecting pyspark\n",
            "  Downloading pyspark-3.4.1.tar.gz (310.8 MB)\n",
            "\u001b[2K     \u001b[90m━━━━━━━━━━━━━━━━━━━━━━━━━━━━━━━━━━━━━━━\u001b[0m \u001b[32m310.8/310.8 MB\u001b[0m \u001b[31m4.3 MB/s\u001b[0m eta \u001b[36m0:00:00\u001b[0m\n",
            "\u001b[?25h  Preparing metadata (setup.py) ... \u001b[?25l\u001b[?25hdone\n",
            "Requirement already satisfied: py4j==0.10.9.7 in /usr/local/lib/python3.10/dist-packages (from pyspark) (0.10.9.7)\n",
            "Building wheels for collected packages: pyspark\n",
            "  Building wheel for pyspark (setup.py) ... \u001b[?25l\u001b[?25hdone\n",
            "  Created wheel for pyspark: filename=pyspark-3.4.1-py2.py3-none-any.whl size=311285387 sha256=3a21767f3e66c5009dcb1f4ca63b6e7bf5f56d2cb4191643fefac25d22b43d36\n",
            "  Stored in directory: /root/.cache/pip/wheels/0d/77/a3/ff2f74cc9ab41f8f594dabf0579c2a7c6de920d584206e0834\n",
            "Successfully built pyspark\n",
            "Installing collected packages: pyspark\n",
            "Successfully installed pyspark-3.4.1\n"
          ]
        }
      ],
      "source": [
        "pip install pyspark\n"
      ]
    },
    {
      "cell_type": "code",
      "source": [
        "from pyspark.sql import SparkSession\n",
        "spark=SparkSession.builder.appName('').getOrCreate()\n"
      ],
      "metadata": {
        "id": "DpEw-mmediHj"
      },
      "execution_count": 2,
      "outputs": []
    },
    {
      "cell_type": "code",
      "source": [
        "from pyspark.sql.types import *\n",
        "\n",
        "data=[(1,'Mehfuz'),(2,'Rahman')]\n",
        "schema=StructType([\n",
        "    StructField(name='id',dataType=IntegerType()),\n",
        "    StructField(name='name',dataType=StringType())\n",
        "    ])\n",
        "df=spark.createDataFrame(data=data,schema=schema)\n"
      ],
      "metadata": {
        "id": "7meSAXOPdo39"
      },
      "execution_count": 37,
      "outputs": []
    },
    {
      "cell_type": "code",
      "source": [
        "df.show()"
      ],
      "metadata": {
        "colab": {
          "base_uri": "https://localhost:8080/"
        },
        "id": "JfkTu5LLdqCK",
        "outputId": "c9e09d2a-b31b-47a4-e597-a670de80a093"
      },
      "execution_count": 38,
      "outputs": [
        {
          "output_type": "stream",
          "name": "stdout",
          "text": [
            "+---+------+\n",
            "| id|  name|\n",
            "+---+------+\n",
            "|  1|Mehfuz|\n",
            "|  2|Rahman|\n",
            "+---+------+\n",
            "\n"
          ]
        }
      ]
    },
    {
      "cell_type": "code",
      "source": [
        "df.printSchema()"
      ],
      "metadata": {
        "colab": {
          "base_uri": "https://localhost:8080/"
        },
        "id": "7UQsrEWIdvVD",
        "outputId": "0409ede4-b03a-447d-a409-b80a7f0eadfb"
      },
      "execution_count": 39,
      "outputs": [
        {
          "output_type": "stream",
          "name": "stdout",
          "text": [
            "root\n",
            " |-- id: integer (nullable = true)\n",
            " |-- name: string (nullable = true)\n",
            "\n"
          ]
        }
      ]
    },
    {
      "cell_type": "code",
      "source": [
        "##Second Lesson"
      ],
      "metadata": {
        "id": "wRt-qYwtdxmh"
      },
      "execution_count": 40,
      "outputs": []
    },
    {
      "cell_type": "code",
      "source": [
        "df=spark.read.csv('emp1.csv',header=True)\n",
        "df.show()\n",
        "df.printSchema()"
      ],
      "metadata": {
        "colab": {
          "base_uri": "https://localhost:8080/"
        },
        "id": "EDjikKBBfGcq",
        "outputId": "767b1421-42c6-4495-92ca-7643d390a800"
      },
      "execution_count": 41,
      "outputs": [
        {
          "output_type": "stream",
          "name": "stdout",
          "text": [
            "+---+------+------+------+\n",
            "| id|  name|gender|salary|\n",
            "+---+------+------+------+\n",
            "|  1|Mehfuz|  Male|  1000|\n",
            "|  2|Mazhab|  Male|  1000|\n",
            "+---+------+------+------+\n",
            "\n",
            "root\n",
            " |-- id: string (nullable = true)\n",
            " |-- name: string (nullable = true)\n",
            " |-- gender: string (nullable = true)\n",
            " |-- salary: string (nullable = true)\n",
            "\n"
          ]
        }
      ]
    },
    {
      "cell_type": "code",
      "source": [
        "schema=StructType().add('id',IntegerType())\\\n",
        "                    .add('name',StringType())\\\n",
        "                    .add('gender',StringType())\\\n",
        "                    .add('salary',IntegerType())\\\n",
        "\n",
        "\n",
        "df=spark.read.csv(['emp1.csv','emp2.csv'],schema=schema,header=True)\n",
        "df.show()\n",
        "df.printSchema()"
      ],
      "metadata": {
        "colab": {
          "base_uri": "https://localhost:8080/"
        },
        "id": "rP0XJ1duhgIh",
        "outputId": "362b7732-276e-4faa-9535-e490f29b286d"
      },
      "execution_count": 42,
      "outputs": [
        {
          "output_type": "stream",
          "name": "stdout",
          "text": [
            "+---+-------+------+------+\n",
            "| id|   name|gender|salary|\n",
            "+---+-------+------+------+\n",
            "|  1| Mehfuz|  Male|  1000|\n",
            "|  2| Mazhab|  Male|  1000|\n",
            "|  1|Bharath|  Male|  1000|\n",
            "|  2|  Vinay|  Male|  1000|\n",
            "+---+-------+------+------+\n",
            "\n",
            "root\n",
            " |-- id: integer (nullable = true)\n",
            " |-- name: string (nullable = true)\n",
            " |-- gender: string (nullable = true)\n",
            " |-- salary: integer (nullable = true)\n",
            "\n"
          ]
        }
      ]
    },
    {
      "cell_type": "code",
      "source": [
        "df.write.csv(\"new_emp\",header=True)"
      ],
      "metadata": {
        "id": "qpeMiPOih8bY"
      },
      "execution_count": 43,
      "outputs": []
    },
    {
      "cell_type": "code",
      "source": [
        "from pyspark.sql.functions import col,lit"
      ],
      "metadata": {
        "id": "yr7rbL1maiiv"
      },
      "execution_count": 44,
      "outputs": []
    },
    {
      "cell_type": "code",
      "source": [
        "df2=spark.read.csv('emp1.csv',header=True)"
      ],
      "metadata": {
        "id": "ulD2QYCafl3A"
      },
      "execution_count": 45,
      "outputs": []
    },
    {
      "cell_type": "code",
      "source": [
        "df2.show()\n",
        "df2.printSchema()"
      ],
      "metadata": {
        "colab": {
          "base_uri": "https://localhost:8080/"
        },
        "id": "zyODCtbBgCKW",
        "outputId": "80d118f9-657b-4be3-945c-f676eee721dc"
      },
      "execution_count": 46,
      "outputs": [
        {
          "output_type": "stream",
          "name": "stdout",
          "text": [
            "+---+------+------+------+\n",
            "| id|  name|gender|salary|\n",
            "+---+------+------+------+\n",
            "|  1|Mehfuz|  Male|  1000|\n",
            "|  2|Mazhab|  Male|  1000|\n",
            "+---+------+------+------+\n",
            "\n",
            "root\n",
            " |-- id: string (nullable = true)\n",
            " |-- name: string (nullable = true)\n",
            " |-- gender: string (nullable = true)\n",
            " |-- salary: string (nullable = true)\n",
            "\n"
          ]
        }
      ]
    },
    {
      "cell_type": "code",
      "source": [
        "df2=df2.withColumn('salary',col('salary').cast('Integer'))"
      ],
      "metadata": {
        "id": "cQnMPrU2gEhy"
      },
      "execution_count": 47,
      "outputs": []
    },
    {
      "cell_type": "code",
      "source": [
        "df2.printSchema()"
      ],
      "metadata": {
        "colab": {
          "base_uri": "https://localhost:8080/"
        },
        "id": "cmndYb9qgbq5",
        "outputId": "a9e996ea-7ae2-46e5-a72a-5f7750c80abc"
      },
      "execution_count": 48,
      "outputs": [
        {
          "output_type": "stream",
          "name": "stdout",
          "text": [
            "root\n",
            " |-- id: string (nullable = true)\n",
            " |-- name: string (nullable = true)\n",
            " |-- gender: string (nullable = true)\n",
            " |-- salary: integer (nullable = true)\n",
            "\n"
          ]
        }
      ]
    },
    {
      "cell_type": "code",
      "source": [
        "df2=df2.withColumn('salary',col('salary')*2)\n",
        "df2.show()"
      ],
      "metadata": {
        "colab": {
          "base_uri": "https://localhost:8080/"
        },
        "id": "dNUlywghgsZX",
        "outputId": "4fa6d97f-84a2-410e-a1f6-e6bea85753c7"
      },
      "execution_count": 49,
      "outputs": [
        {
          "output_type": "stream",
          "name": "stdout",
          "text": [
            "+---+------+------+------+\n",
            "| id|  name|gender|salary|\n",
            "+---+------+------+------+\n",
            "|  1|Mehfuz|  Male|  2000|\n",
            "|  2|Mazhab|  Male|  2000|\n",
            "+---+------+------+------+\n",
            "\n"
          ]
        }
      ]
    },
    {
      "cell_type": "code",
      "source": [
        "def even(sal):\n",
        "  if sal%2==0:\n",
        "    return sal\n",
        "  else:\n",
        "    return None"
      ],
      "metadata": {
        "id": "K3tsBneciAMm"
      },
      "execution_count": 50,
      "outputs": []
    },
    {
      "cell_type": "code",
      "source": [
        "from pyspark.sql.functions import udf\n",
        "even=udf(even,IntegerType())"
      ],
      "metadata": {
        "id": "NoRiLwWDjAjJ"
      },
      "execution_count": 51,
      "outputs": []
    },
    {
      "cell_type": "code",
      "source": [
        "df2.withColumn('salary',even(df2['salary']))\n",
        "df2.show()"
      ],
      "metadata": {
        "colab": {
          "base_uri": "https://localhost:8080/"
        },
        "id": "Z8r4Kz6ziOhR",
        "outputId": "94485b19-04a5-4576-de94-829c523c3990"
      },
      "execution_count": 52,
      "outputs": [
        {
          "output_type": "stream",
          "name": "stdout",
          "text": [
            "+---+------+------+------+\n",
            "| id|  name|gender|salary|\n",
            "+---+------+------+------+\n",
            "|  1|Mehfuz|  Male|  2000|\n",
            "|  2|Mazhab|  Male|  2000|\n",
            "+---+------+------+------+\n",
            "\n"
          ]
        }
      ]
    },
    {
      "cell_type": "code",
      "source": [
        "df2=df2.withColumn('country',lit('India'))"
      ],
      "metadata": {
        "id": "Jwjt_NwPiXRp"
      },
      "execution_count": 53,
      "outputs": []
    },
    {
      "cell_type": "code",
      "source": [
        "df2.show()"
      ],
      "metadata": {
        "colab": {
          "base_uri": "https://localhost:8080/"
        },
        "id": "V2TO4eq5j4A5",
        "outputId": "d8fa5a93-2ec0-4cf5-85c5-c400eb1beab2"
      },
      "execution_count": 54,
      "outputs": [
        {
          "output_type": "stream",
          "name": "stdout",
          "text": [
            "+---+------+------+------+-------+\n",
            "| id|  name|gender|salary|country|\n",
            "+---+------+------+------+-------+\n",
            "|  1|Mehfuz|  Male|  2000|  India|\n",
            "|  2|Mazhab|  Male|  2000|  India|\n",
            "+---+------+------+------+-------+\n",
            "\n"
          ]
        }
      ]
    },
    {
      "cell_type": "code",
      "source": [
        "# Sample DataFrame\n",
        "data = [(1, \"100\", \"2023-09-17\"), (2, \"200\", \"2023-09-18\")]\n",
        "columns = [\"id\", \"amount\", \"date\"]\n",
        "df = spark.createDataFrame(data, columns)\n",
        "\n",
        "# Define the new data types\n",
        "new_data_types = {\n",
        "    \"id\": \"double\",\n",
        "    \"amount\": \"integer\",\n",
        "    \"date\": \"date\"\n",
        "}\n",
        "\n",
        "# Convert the columns to the new data types\n",
        "for column, new_type in new_data_types.items():\n",
        "    df = df.withColumn(column, col(column).cast(new_type))\n",
        "\n",
        "# Show the DataFrame with updated data types\n",
        "df.printSchema()\n",
        "df.show()\n"
      ],
      "metadata": {
        "colab": {
          "base_uri": "https://localhost:8080/"
        },
        "id": "JTnAdC25j-zP",
        "outputId": "39520f8d-4df7-446b-c624-0e6ddb62f52b"
      },
      "execution_count": 55,
      "outputs": [
        {
          "output_type": "stream",
          "name": "stdout",
          "text": [
            "root\n",
            " |-- id: double (nullable = true)\n",
            " |-- amount: integer (nullable = true)\n",
            " |-- date: date (nullable = true)\n",
            "\n",
            "+---+------+----------+\n",
            "| id|amount|      date|\n",
            "+---+------+----------+\n",
            "|1.0|   100|2023-09-17|\n",
            "|2.0|   200|2023-09-18|\n",
            "+---+------+----------+\n",
            "\n"
          ]
        }
      ]
    },
    {
      "cell_type": "code",
      "source": [
        "df=df.withColumnRenamed('amount','salary_amount')"
      ],
      "metadata": {
        "id": "Z5pgFfWVl0W6"
      },
      "execution_count": 56,
      "outputs": []
    },
    {
      "cell_type": "code",
      "source": [
        "df.show()"
      ],
      "metadata": {
        "colab": {
          "base_uri": "https://localhost:8080/"
        },
        "id": "YnrK5uO1nWke",
        "outputId": "9a4899a2-bd20-4f55-dd90-07520e530d8b"
      },
      "execution_count": 57,
      "outputs": [
        {
          "output_type": "stream",
          "name": "stdout",
          "text": [
            "+---+-------------+----------+\n",
            "| id|salary_amount|      date|\n",
            "+---+-------------+----------+\n",
            "|1.0|          100|2023-09-17|\n",
            "|2.0|          200|2023-09-18|\n",
            "+---+-------------+----------+\n",
            "\n"
          ]
        }
      ]
    },
    {
      "cell_type": "code",
      "source": [
        "#complex columns"
      ],
      "metadata": {
        "id": "6IwnHr-nnYff"
      },
      "execution_count": 58,
      "outputs": []
    },
    {
      "cell_type": "code",
      "source": [
        "data=[(1,['Mehfuzur','rahman'],200),(2,['Mazhabur','Rahman'],300)]\n",
        "\n",
        "\n",
        "structName=StructType([\\\n",
        "                       StructField('FirstName',StringType()),\\\n",
        "                       StructField('LastName',StringType())\n",
        "                       ])\n",
        "\n",
        "schema=StructType([\\\n",
        "                  StructField('ID',IntegerType()),\\\n",
        "                   StructField('Name',structName),\\\n",
        "                   StructField('Salary',IntegerType())\n",
        "\n",
        "\n",
        "\n",
        "\n",
        "                   ])\n"
      ],
      "metadata": {
        "id": "h1KUGEAyoZIF"
      },
      "execution_count": 59,
      "outputs": []
    },
    {
      "cell_type": "code",
      "source": [
        "df=spark.createDataFrame(data,schema)"
      ],
      "metadata": {
        "id": "VUN-Sv_Op18t"
      },
      "execution_count": 60,
      "outputs": []
    },
    {
      "cell_type": "code",
      "source": [
        "df.show()"
      ],
      "metadata": {
        "id": "P34MAPi5p5jU",
        "outputId": "7be231f6-3d5a-49db-b9ab-a3cff95b0438",
        "colab": {
          "base_uri": "https://localhost:8080/"
        }
      },
      "execution_count": 61,
      "outputs": [
        {
          "output_type": "stream",
          "name": "stdout",
          "text": [
            "+---+------------------+------+\n",
            "| ID|              Name|Salary|\n",
            "+---+------------------+------+\n",
            "|  1|{Mehfuzur, rahman}|   200|\n",
            "|  2|{Mazhabur, Rahman}|   300|\n",
            "+---+------------------+------+\n",
            "\n"
          ]
        }
      ]
    },
    {
      "cell_type": "code",
      "source": [
        "df.printSchema()"
      ],
      "metadata": {
        "id": "1MUBXM-wqAGx",
        "outputId": "9fdaf6ee-8747-40ad-bd87-aaeb17246667",
        "colab": {
          "base_uri": "https://localhost:8080/"
        }
      },
      "execution_count": 62,
      "outputs": [
        {
          "output_type": "stream",
          "name": "stdout",
          "text": [
            "root\n",
            " |-- ID: integer (nullable = true)\n",
            " |-- Name: struct (nullable = true)\n",
            " |    |-- FirstName: string (nullable = true)\n",
            " |    |-- LastName: string (nullable = true)\n",
            " |-- Salary: integer (nullable = true)\n",
            "\n"
          ]
        }
      ]
    },
    {
      "cell_type": "code",
      "source": [
        "#MapColumn"
      ],
      "metadata": {
        "id": "DnWtT1EnqCtj"
      },
      "execution_count": 63,
      "outputs": []
    },
    {
      "cell_type": "code",
      "source": [
        "data=[('mehfuz',{'hair':'black','eye':'brown'}),('mazhab',{'hair':'silky_black','eye':'brown'})]\n",
        "schema=StructType([\\\n",
        "                   StructField('Names',StringType()),\\\n",
        "                   StructField('Properties',MapType(StringType(),StringType()))\n",
        "\n",
        "\n",
        "                   ])\n",
        "\n",
        "\n",
        "df=spark.createDataFrame(data,schema=schema)\n",
        "df.show(truncate=False)\n",
        "df.printSchema()"
      ],
      "metadata": {
        "colab": {
          "base_uri": "https://localhost:8080/"
        },
        "id": "ld7bncXx3w0k",
        "outputId": "e23337bd-6fad-488e-c634-53153f46ce76"
      },
      "execution_count": 64,
      "outputs": [
        {
          "output_type": "stream",
          "name": "stdout",
          "text": [
            "+------+-----------------------------------+\n",
            "|Names |Properties                         |\n",
            "+------+-----------------------------------+\n",
            "|mehfuz|{eye -> brown, hair -> black}      |\n",
            "|mazhab|{eye -> brown, hair -> silky_black}|\n",
            "+------+-----------------------------------+\n",
            "\n",
            "root\n",
            " |-- Names: string (nullable = true)\n",
            " |-- Properties: map (nullable = true)\n",
            " |    |-- key: string\n",
            " |    |-- value: string (valueContainsNull = true)\n",
            "\n"
          ]
        }
      ]
    },
    {
      "cell_type": "code",
      "source": [
        "df1=df.withColumn('Hair',df['properties']['hair'])\n",
        "df1.show()"
      ],
      "metadata": {
        "colab": {
          "base_uri": "https://localhost:8080/"
        },
        "id": "X0MMXyKO4Tw2",
        "outputId": "13066bbd-ba88-4da0-d39f-92840cb4428b"
      },
      "execution_count": 65,
      "outputs": [
        {
          "output_type": "stream",
          "name": "stdout",
          "text": [
            "+------+--------------------+-----------+\n",
            "| Names|          Properties|       Hair|\n",
            "+------+--------------------+-----------+\n",
            "|mehfuz|{eye -> brown, ha...|      black|\n",
            "|mazhab|{eye -> brown, ha...|silky_black|\n",
            "+------+--------------------+-----------+\n",
            "\n"
          ]
        }
      ]
    },
    {
      "cell_type": "code",
      "source": [
        "df1=df.withColumn('Hair',df['Properties'].getItem('eye'))\n",
        "df1.show()"
      ],
      "metadata": {
        "colab": {
          "base_uri": "https://localhost:8080/"
        },
        "id": "G3zrpqSR-RWV",
        "outputId": "f0e8eb1a-29e1-4d6e-8c77-71ac53a49a7d"
      },
      "execution_count": 66,
      "outputs": [
        {
          "output_type": "stream",
          "name": "stdout",
          "text": [
            "+------+--------------------+-----+\n",
            "| Names|          Properties| Hair|\n",
            "+------+--------------------+-----+\n",
            "|mehfuz|{eye -> brown, ha...|brown|\n",
            "|mazhab|{eye -> brown, ha...|brown|\n",
            "+------+--------------------+-----+\n",
            "\n"
          ]
        }
      ]
    },
    {
      "cell_type": "code",
      "source": [],
      "metadata": {
        "id": "H42Yn3CY-Zdz"
      },
      "execution_count": 66,
      "outputs": []
    },
    {
      "cell_type": "code",
      "source": [
        "from pyspark.sql.functions import explode"
      ],
      "metadata": {
        "id": "JO9bqwJF_mVf"
      },
      "execution_count": 67,
      "outputs": []
    },
    {
      "cell_type": "code",
      "source": [
        "df1=df.select('Names','Properties',explode(df['Properties']))"
      ],
      "metadata": {
        "id": "zyemNwz4_xqB"
      },
      "execution_count": 68,
      "outputs": []
    },
    {
      "cell_type": "code",
      "source": [
        "df1.show(truncate=False)"
      ],
      "metadata": {
        "colab": {
          "base_uri": "https://localhost:8080/"
        },
        "id": "lslsUbDj_2vG",
        "outputId": "26c6d27d-f256-46fc-9e80-c7e590cd034c"
      },
      "execution_count": 69,
      "outputs": [
        {
          "output_type": "stream",
          "name": "stdout",
          "text": [
            "+------+-----------------------------------+----+-----------+\n",
            "|Names |Properties                         |key |value      |\n",
            "+------+-----------------------------------+----+-----------+\n",
            "|mehfuz|{eye -> brown, hair -> black}      |eye |brown      |\n",
            "|mehfuz|{eye -> brown, hair -> black}      |hair|black      |\n",
            "|mazhab|{eye -> brown, hair -> silky_black}|eye |brown      |\n",
            "|mazhab|{eye -> brown, hair -> silky_black}|hair|silky_black|\n",
            "+------+-----------------------------------+----+-----------+\n",
            "\n"
          ]
        }
      ]
    },
    {
      "cell_type": "code",
      "source": [
        "from pyspark.sql.functions import map_keys,map_values"
      ],
      "metadata": {
        "id": "5zCFv8g0_5fG"
      },
      "execution_count": 70,
      "outputs": []
    },
    {
      "cell_type": "code",
      "source": [
        "df.select('Names','Properties',map_keys(df['Properties'])).show()"
      ],
      "metadata": {
        "colab": {
          "base_uri": "https://localhost:8080/"
        },
        "id": "yfY3rXjSAOBC",
        "outputId": "8ad1c534-7fdc-4cd2-c2c6-02ceb30f4e25"
      },
      "execution_count": 71,
      "outputs": [
        {
          "output_type": "stream",
          "name": "stdout",
          "text": [
            "+------+--------------------+--------------------+\n",
            "| Names|          Properties|map_keys(Properties)|\n",
            "+------+--------------------+--------------------+\n",
            "|mehfuz|{eye -> brown, ha...|         [eye, hair]|\n",
            "|mazhab|{eye -> brown, ha...|         [eye, hair]|\n",
            "+------+--------------------+--------------------+\n",
            "\n"
          ]
        }
      ]
    },
    {
      "cell_type": "code",
      "source": [
        "df.select('Names','Properties',map_values(df['Properties'])).show()"
      ],
      "metadata": {
        "colab": {
          "base_uri": "https://localhost:8080/"
        },
        "id": "NwwPwj2hAZ6D",
        "outputId": "f6eafedd-7268-4d1d-a6d2-57ea4ee5cd23"
      },
      "execution_count": 72,
      "outputs": [
        {
          "output_type": "stream",
          "name": "stdout",
          "text": [
            "+------+--------------------+----------------------+\n",
            "| Names|          Properties|map_values(Properties)|\n",
            "+------+--------------------+----------------------+\n",
            "|mehfuz|{eye -> brown, ha...|        [brown, black]|\n",
            "|mazhab|{eye -> brown, ha...|  [brown, silky_black]|\n",
            "+------+--------------------+----------------------+\n",
            "\n"
          ]
        }
      ]
    },
    {
      "cell_type": "code",
      "source": [
        "#ROW"
      ],
      "metadata": {
        "id": "TiKAq8z1AuhP"
      },
      "execution_count": 73,
      "outputs": []
    },
    {
      "cell_type": "code",
      "source": [
        "from pyspark.sql import Row"
      ],
      "metadata": {
        "id": "j_2c9AwlCwuj"
      },
      "execution_count": 74,
      "outputs": []
    },
    {
      "cell_type": "code",
      "source": [
        "row=Row('mehfuz',3000)\n",
        "print(row[0]+\" \"+str(row[1]))"
      ],
      "metadata": {
        "colab": {
          "base_uri": "https://localhost:8080/"
        },
        "id": "3TP_2eWJC13E",
        "outputId": "1b9b2ee7-a499-408a-cc8e-95799b7e8032"
      },
      "execution_count": 75,
      "outputs": [
        {
          "output_type": "stream",
          "name": "stdout",
          "text": [
            "mehfuz 3000\n"
          ]
        }
      ]
    },
    {
      "cell_type": "code",
      "source": [
        "row=Row(name='mehfuz',salary=3000)\n",
        "print(row.name+\" \"+str(row.salary))"
      ],
      "metadata": {
        "colab": {
          "base_uri": "https://localhost:8080/"
        },
        "id": "sEjuBE_bDEig",
        "outputId": "e0fd1e69-41c6-4c01-f04f-db1d504fbd50"
      },
      "execution_count": 76,
      "outputs": [
        {
          "output_type": "stream",
          "name": "stdout",
          "text": [
            "mehfuz 3000\n"
          ]
        }
      ]
    },
    {
      "cell_type": "code",
      "source": [
        "row1=Row(name='mehfuz',salary=3000)\n",
        "row2=Row(name='mazhab',salary=4000)\n",
        "\n",
        "\n",
        "data=[row1,row2]\n",
        "\n",
        "spark.createDataFrame(data).show(truncate=False)"
      ],
      "metadata": {
        "colab": {
          "base_uri": "https://localhost:8080/"
        },
        "id": "vLlGt3RFDMPS",
        "outputId": "d8cceeb3-194a-4225-ac9f-057224d9fa33"
      },
      "execution_count": 77,
      "outputs": [
        {
          "output_type": "stream",
          "name": "stdout",
          "text": [
            "+------+------+\n",
            "|name  |salary|\n",
            "+------+------+\n",
            "|mehfuz|3000  |\n",
            "|mazhab|4000  |\n",
            "+------+------+\n",
            "\n"
          ]
        }
      ]
    },
    {
      "cell_type": "code",
      "source": [
        "Person=Row('name','salary')\n",
        "\n",
        "p1=Person('Mehfuz',3000)\n",
        "p2=Person('Mazhab',4000)\n",
        "\n",
        "\n",
        "spark.createDataFrame([p1,p2]).show(truncate=False)"
      ],
      "metadata": {
        "colab": {
          "base_uri": "https://localhost:8080/"
        },
        "id": "wADicd2wEBGx",
        "outputId": "61380543-65dd-4ddf-9e39-432cfabe702d"
      },
      "execution_count": 78,
      "outputs": [
        {
          "output_type": "stream",
          "name": "stdout",
          "text": [
            "+------+------+\n",
            "|name  |salary|\n",
            "+------+------+\n",
            "|Mehfuz|3000  |\n",
            "|Mazhab|4000  |\n",
            "+------+------+\n",
            "\n"
          ]
        }
      ]
    },
    {
      "cell_type": "code",
      "source": [
        "data=[\n",
        "      Row(name='Mehfuz',prop=Row(color='sawla',eye='brown')),\n",
        "      Row(name='Mazhab',prop=Row(color='fair',eye='brown'))\n",
        "      ]\n",
        "\n",
        "\n",
        "spark.createDataFrame(data).show()"
      ],
      "metadata": {
        "colab": {
          "base_uri": "https://localhost:8080/"
        },
        "id": "HR1zdX6jEiT4",
        "outputId": "0b72a741-d280-418f-c8a8-13409989d1be"
      },
      "execution_count": 79,
      "outputs": [
        {
          "output_type": "stream",
          "name": "stdout",
          "text": [
            "+------+--------------+\n",
            "|  name|          prop|\n",
            "+------+--------------+\n",
            "|Mehfuz|{sawla, brown}|\n",
            "|Mazhab| {fair, brown}|\n",
            "+------+--------------+\n",
            "\n"
          ]
        }
      ]
    },
    {
      "cell_type": "code",
      "source": [
        "row1=Row(name='mehfuz',salary=3)\n",
        "row2=Row(name='mazhab',salary=4)\n",
        "\n",
        "\n",
        "data=[row1,row2]\n",
        "\n",
        "df=spark.createDataFrame(data)"
      ],
      "metadata": {
        "id": "uf8avzNkFgqi"
      },
      "execution_count": 80,
      "outputs": []
    },
    {
      "cell_type": "code",
      "source": [
        "df.show()"
      ],
      "metadata": {
        "colab": {
          "base_uri": "https://localhost:8080/"
        },
        "id": "U-IWO2yMF4K3",
        "outputId": "e3074308-9201-4689-e4e5-d6b3144203c7"
      },
      "execution_count": 81,
      "outputs": [
        {
          "output_type": "stream",
          "name": "stdout",
          "text": [
            "+------+------+\n",
            "|  name|salary|\n",
            "+------+------+\n",
            "|mehfuz|     3|\n",
            "|mazhab|     4|\n",
            "+------+------+\n",
            "\n"
          ]
        }
      ]
    },
    {
      "cell_type": "code",
      "source": [
        "def even(sal):\n",
        "  if sal%2==0:\n",
        "    return 0\n",
        "  else:\n",
        "    return 1\n",
        "\n",
        "\n",
        "from pyspark.sql.functions import udf\n",
        "\n",
        "\n",
        "even_udf=udf(even)\n",
        "\n",
        "\n",
        "df.withColumn('ind',lit(even_udf(df['salary']))).show()"
      ],
      "metadata": {
        "colab": {
          "base_uri": "https://localhost:8080/"
        },
        "id": "GL0qop1zIE1Q",
        "outputId": "15711df8-f458-4e9a-dd30-f50fc2e417bd"
      },
      "execution_count": 82,
      "outputs": [
        {
          "output_type": "stream",
          "name": "stdout",
          "text": [
            "+------+------+---+\n",
            "|  name|salary|ind|\n",
            "+------+------+---+\n",
            "|mehfuz|     3|  1|\n",
            "|mazhab|     4|  0|\n",
            "+------+------+---+\n",
            "\n"
          ]
        }
      ]
    },
    {
      "cell_type": "code",
      "source": [
        "#WHEN AND OTHERWISE LIKE case statement in sql"
      ],
      "metadata": {
        "id": "DX5SydwJIlk5"
      },
      "execution_count": 83,
      "outputs": []
    },
    {
      "cell_type": "code",
      "source": [
        "row1=Row(name='mehfuz',salary=3,gender='F')\n",
        "row2=Row(name='mazhab',salary=4,gender='M')\n",
        "\n",
        "\n",
        "data=[row1,row2]\n",
        "\n",
        "df=spark.createDataFrame(data)"
      ],
      "metadata": {
        "id": "iliH1ZdjJI2a"
      },
      "execution_count": 84,
      "outputs": []
    },
    {
      "cell_type": "code",
      "source": [
        "df.show()"
      ],
      "metadata": {
        "colab": {
          "base_uri": "https://localhost:8080/"
        },
        "id": "bFOsLGe7KlFq",
        "outputId": "6d774d5c-4667-46d2-8fa5-fda2a64e2e3c"
      },
      "execution_count": 85,
      "outputs": [
        {
          "output_type": "stream",
          "name": "stdout",
          "text": [
            "+------+------+------+\n",
            "|  name|salary|gender|\n",
            "+------+------+------+\n",
            "|mehfuz|     3|     F|\n",
            "|mazhab|     4|     M|\n",
            "+------+------+------+\n",
            "\n"
          ]
        }
      ]
    },
    {
      "cell_type": "code",
      "source": [
        "from pyspark.sql.functions import when"
      ],
      "metadata": {
        "id": "6B41GMzoKnRj"
      },
      "execution_count": 86,
      "outputs": []
    },
    {
      "cell_type": "code",
      "source": [
        "df1=df.select(df['name'],\\\n",
        "          df['salary'],\\\n",
        "          when(df.gender=='F','Female')\\\n",
        "          .when(df.gender=='M','Male')\\\n",
        "          .otherwise('unknown').alias('gender'))"
      ],
      "metadata": {
        "id": "CbF6ib1SKrWb"
      },
      "execution_count": 87,
      "outputs": []
    },
    {
      "cell_type": "code",
      "source": [
        "df1.show()"
      ],
      "metadata": {
        "colab": {
          "base_uri": "https://localhost:8080/"
        },
        "id": "XAS2A_nCLUxv",
        "outputId": "f1e8ddc4-bcde-4436-a401-1af92649c319"
      },
      "execution_count": 88,
      "outputs": [
        {
          "output_type": "stream",
          "name": "stdout",
          "text": [
            "+------+------+------+\n",
            "|  name|salary|gender|\n",
            "+------+------+------+\n",
            "|mehfuz|     3|Female|\n",
            "|mazhab|     4|  Male|\n",
            "+------+------+------+\n",
            "\n"
          ]
        }
      ]
    },
    {
      "cell_type": "code",
      "source": [
        "#alias"
      ],
      "metadata": {
        "id": "YWMwIF3qLXJE"
      },
      "execution_count": 89,
      "outputs": []
    },
    {
      "cell_type": "code",
      "source": [
        "df1.select(df1.name.alias('candidate'),df1.salary.alias('sal'),df1.gender.alias('sex')).show()"
      ],
      "metadata": {
        "id": "XWWsUQ9jMMYL",
        "outputId": "0dce2d86-3515-45d7-9e79-efabdade5076",
        "colab": {
          "base_uri": "https://localhost:8080/"
        }
      },
      "execution_count": 90,
      "outputs": [
        {
          "output_type": "stream",
          "name": "stdout",
          "text": [
            "+---------+---+------+\n",
            "|candidate|sal|   sex|\n",
            "+---------+---+------+\n",
            "|   mehfuz|  3|Female|\n",
            "|   mazhab|  4|  Male|\n",
            "+---------+---+------+\n",
            "\n"
          ]
        }
      ]
    },
    {
      "cell_type": "code",
      "source": [
        "df1.sort(df1.gender.asc()).show()"
      ],
      "metadata": {
        "id": "s7HcdfBqMkgL",
        "outputId": "d0d0c5aa-7081-451f-8ce1-e421cb05e06f",
        "colab": {
          "base_uri": "https://localhost:8080/"
        }
      },
      "execution_count": 91,
      "outputs": [
        {
          "output_type": "stream",
          "name": "stdout",
          "text": [
            "+------+------+------+\n",
            "|  name|salary|gender|\n",
            "+------+------+------+\n",
            "|mehfuz|     3|Female|\n",
            "|mazhab|     4|  Male|\n",
            "+------+------+------+\n",
            "\n"
          ]
        }
      ]
    },
    {
      "cell_type": "code",
      "source": [
        "#cast"
      ],
      "metadata": {
        "id": "YCo7votDM7r1"
      },
      "execution_count": 92,
      "outputs": []
    },
    {
      "cell_type": "code",
      "source": [
        "df1.printSchema()\n",
        "df1.show()"
      ],
      "metadata": {
        "id": "f33jvxS1NHup",
        "outputId": "bdc79799-56a8-4801-f74f-19862e00fea9",
        "colab": {
          "base_uri": "https://localhost:8080/"
        }
      },
      "execution_count": 93,
      "outputs": [
        {
          "output_type": "stream",
          "name": "stdout",
          "text": [
            "root\n",
            " |-- name: string (nullable = true)\n",
            " |-- salary: long (nullable = true)\n",
            " |-- gender: string (nullable = false)\n",
            "\n",
            "+------+------+------+\n",
            "|  name|salary|gender|\n",
            "+------+------+------+\n",
            "|mehfuz|     3|Female|\n",
            "|mazhab|     4|  Male|\n",
            "+------+------+------+\n",
            "\n"
          ]
        }
      ]
    },
    {
      "cell_type": "code",
      "source": [
        "df1.select(df1.salary.cast('int'))"
      ],
      "metadata": {
        "id": "cXt38F2pNJVK",
        "outputId": "d80d1613-a6e4-49c1-9a35-31309f961f34",
        "colab": {
          "base_uri": "https://localhost:8080/"
        }
      },
      "execution_count": 94,
      "outputs": [
        {
          "output_type": "execute_result",
          "data": {
            "text/plain": [
              "DataFrame[salary: int]"
            ]
          },
          "metadata": {},
          "execution_count": 94
        }
      ]
    },
    {
      "cell_type": "code",
      "source": [
        "#Like\n",
        "df1.filter(df.name.like(\"%z\")).show()"
      ],
      "metadata": {
        "id": "8AkGFVsKNQZq"
      },
      "execution_count": null,
      "outputs": []
    },
    {
      "cell_type": "code",
      "source": [
        "#where\n",
        "\n",
        "df1.show()"
      ],
      "metadata": {
        "id": "RTM04hKBNuNN",
        "colab": {
          "base_uri": "https://localhost:8080/"
        },
        "outputId": "1b079bb3-289a-4008-fc2a-a72741b61c14"
      },
      "execution_count": 97,
      "outputs": [
        {
          "output_type": "stream",
          "name": "stdout",
          "text": [
            "+------+------+------+\n",
            "|  name|salary|gender|\n",
            "+------+------+------+\n",
            "|mehfuz|     3|Female|\n",
            "|mazhab|     4|  Male|\n",
            "+------+------+------+\n",
            "\n"
          ]
        }
      ]
    },
    {
      "cell_type": "code",
      "source": [
        "df1.where((\"salary==4\") and (\"gender=='Male' \")).show()"
      ],
      "metadata": {
        "colab": {
          "base_uri": "https://localhost:8080/"
        },
        "id": "7tOn6QMz3Q-V",
        "outputId": "d83d0216-beac-4f09-c39a-5fa4be9382e7"
      },
      "execution_count": 101,
      "outputs": [
        {
          "output_type": "stream",
          "name": "stdout",
          "text": [
            "+------+------+------+\n",
            "|  name|salary|gender|\n",
            "+------+------+------+\n",
            "|mazhab|     4|  Male|\n",
            "+------+------+------+\n",
            "\n"
          ]
        }
      ]
    },
    {
      "cell_type": "code",
      "source": [
        "data=[(1,'abc','male',1000),(2,'def','female',2000),(3,'ghi','male',2000),(4,'jkl','female',4000)]\n",
        "schema=['id','name','gender','salary']\n",
        "\n",
        "\n",
        "df=spark.createDataFrame(data,schema)\n",
        "df.show()\n",
        "df.printSchema()"
      ],
      "metadata": {
        "colab": {
          "base_uri": "https://localhost:8080/"
        },
        "id": "diEVT_md3wME",
        "outputId": "c22cd162-3738-4ef8-9906-031b481a44f9"
      },
      "execution_count": 103,
      "outputs": [
        {
          "output_type": "stream",
          "name": "stdout",
          "text": [
            "+---+----+------+------+\n",
            "| id|name|gender|salary|\n",
            "+---+----+------+------+\n",
            "|  1| abc|  male|  1000|\n",
            "|  2| def|female|  2000|\n",
            "|  3| ghi|  male|  2000|\n",
            "|  4| jkl|female|  4000|\n",
            "+---+----+------+------+\n",
            "\n",
            "root\n",
            " |-- id: long (nullable = true)\n",
            " |-- name: string (nullable = true)\n",
            " |-- gender: string (nullable = true)\n",
            " |-- salary: long (nullable = true)\n",
            "\n"
          ]
        }
      ]
    },
    {
      "cell_type": "code",
      "source": [
        "df.select('salary').distinct().show()"
      ],
      "metadata": {
        "colab": {
          "base_uri": "https://localhost:8080/"
        },
        "id": "M3358Vyq49vI",
        "outputId": "347bb5d3-fd33-4fa0-f4f1-46c8057b8ec7"
      },
      "execution_count": 110,
      "outputs": [
        {
          "output_type": "stream",
          "name": "stdout",
          "text": [
            "+------+\n",
            "|salary|\n",
            "+------+\n",
            "|  1000|\n",
            "|  2000|\n",
            "|  4000|\n",
            "+------+\n",
            "\n"
          ]
        }
      ]
    },
    {
      "cell_type": "code",
      "source": [
        "df.distinct().show()"
      ],
      "metadata": {
        "colab": {
          "base_uri": "https://localhost:8080/"
        },
        "id": "L3-qSh1l5S2G",
        "outputId": "04c0ffc1-ea55-4fca-a7b5-5ae5798ac861"
      },
      "execution_count": 112,
      "outputs": [
        {
          "output_type": "stream",
          "name": "stdout",
          "text": [
            "+---+----+------+------+\n",
            "| id|name|gender|salary|\n",
            "+---+----+------+------+\n",
            "|  2| def|female|  2000|\n",
            "|  1| abc|  male|  1000|\n",
            "|  4| jkl|female|  4000|\n",
            "|  3| ghi|  male|  2000|\n",
            "+---+----+------+------+\n",
            "\n"
          ]
        }
      ]
    },
    {
      "cell_type": "code",
      "source": [
        "df.dropDuplicates(['gender']).show()"
      ],
      "metadata": {
        "colab": {
          "base_uri": "https://localhost:8080/"
        },
        "id": "zECSm48s5yQ2",
        "outputId": "9d2d76c5-594a-4e76-ea81-475f894bf0f9"
      },
      "execution_count": 113,
      "outputs": [
        {
          "output_type": "stream",
          "name": "stdout",
          "text": [
            "+---+----+------+------+\n",
            "| id|name|gender|salary|\n",
            "+---+----+------+------+\n",
            "|  2| def|female|  2000|\n",
            "|  1| abc|  male|  1000|\n",
            "+---+----+------+------+\n",
            "\n"
          ]
        }
      ]
    },
    {
      "cell_type": "code",
      "source": [
        "data = [(1, 'maheer', 'M', 2000, 'IT'),\n",
        "        (2, 'wafa', 'M', 4000, 'HR'),\n",
        "        (3, 'asi', 'F', 3000, 'Payroll'),\n",
        "        (4, 'sarfaraj', 'M',3000, 'HR')]\n",
        "\n",
        "\n",
        "schema = ['id', 'name', 'gender', 'salary', 'dep']\n",
        "df=spark.createDataFrame(data,schema)"
      ],
      "metadata": {
        "id": "y_0pbxks6Nl4"
      },
      "execution_count": 115,
      "outputs": []
    },
    {
      "cell_type": "code",
      "source": [
        "df.show()"
      ],
      "metadata": {
        "colab": {
          "base_uri": "https://localhost:8080/"
        },
        "id": "myTEVIOh8-lb",
        "outputId": "4c6352f4-f271-4ba2-9c49-51f69140d8a7"
      },
      "execution_count": 116,
      "outputs": [
        {
          "output_type": "stream",
          "name": "stdout",
          "text": [
            "+---+--------+------+------+-------+\n",
            "| id|    name|gender|salary|    dep|\n",
            "+---+--------+------+------+-------+\n",
            "|  1|  maheer|     M|  2000|     IT|\n",
            "|  2|    wafa|     M|  4000|     HR|\n",
            "|  3|     asi|     F|  3000|Payroll|\n",
            "|  4|sarfaraj|     M|  3000|     HR|\n",
            "+---+--------+------+------+-------+\n",
            "\n"
          ]
        }
      ]
    },
    {
      "cell_type": "code",
      "source": [
        "df.sort(df.dep,df.id).show()"
      ],
      "metadata": {
        "colab": {
          "base_uri": "https://localhost:8080/"
        },
        "id": "4Gvhr2969CRV",
        "outputId": "45284366-f633-4f47-e2ce-dee93fb80fc4"
      },
      "execution_count": 118,
      "outputs": [
        {
          "output_type": "stream",
          "name": "stdout",
          "text": [
            "+---+--------+------+------+-------+\n",
            "| id|    name|gender|salary|    dep|\n",
            "+---+--------+------+------+-------+\n",
            "|  2|    wafa|     M|  4000|     HR|\n",
            "|  4|sarfaraj|     M|  3000|     HR|\n",
            "|  1|  maheer|     M|  2000|     IT|\n",
            "|  3|     asi|     F|  3000|Payroll|\n",
            "+---+--------+------+------+-------+\n",
            "\n"
          ]
        }
      ]
    },
    {
      "cell_type": "code",
      "source": [
        "df.sort(df.dep.asc(),df.id.desc()).show()"
      ],
      "metadata": {
        "colab": {
          "base_uri": "https://localhost:8080/"
        },
        "id": "J0jHK9Ke9HA5",
        "outputId": "d6a12860-834a-4b8c-a881-d853407fd5a6"
      },
      "execution_count": 119,
      "outputs": [
        {
          "output_type": "stream",
          "name": "stdout",
          "text": [
            "+---+--------+------+------+-------+\n",
            "| id|    name|gender|salary|    dep|\n",
            "+---+--------+------+------+-------+\n",
            "|  4|sarfaraj|     M|  3000|     HR|\n",
            "|  2|    wafa|     M|  4000|     HR|\n",
            "|  1|  maheer|     M|  2000|     IT|\n",
            "|  3|     asi|     F|  3000|Payroll|\n",
            "+---+--------+------+------+-------+\n",
            "\n"
          ]
        }
      ]
    },
    {
      "cell_type": "code",
      "source": [
        "df.orderBy(df.dep.asc(),df.id.desc()).show()"
      ],
      "metadata": {
        "colab": {
          "base_uri": "https://localhost:8080/"
        },
        "id": "G2U60U879Qv6",
        "outputId": "730efff0-83f4-4792-97f0-de227a1490fa"
      },
      "execution_count": 120,
      "outputs": [
        {
          "output_type": "stream",
          "name": "stdout",
          "text": [
            "+---+--------+------+------+-------+\n",
            "| id|    name|gender|salary|    dep|\n",
            "+---+--------+------+------+-------+\n",
            "|  4|sarfaraj|     M|  3000|     HR|\n",
            "|  2|    wafa|     M|  4000|     HR|\n",
            "|  1|  maheer|     M|  2000|     IT|\n",
            "|  3|     asi|     F|  3000|Payroll|\n",
            "+---+--------+------+------+-------+\n",
            "\n"
          ]
        }
      ]
    },
    {
      "cell_type": "code",
      "source": [
        "df.orderBy(df.dep,df.id).show()"
      ],
      "metadata": {
        "colab": {
          "base_uri": "https://localhost:8080/"
        },
        "id": "3U6A89dQ9Xzq",
        "outputId": "8eb9b148-bc3f-462c-e503-292492cf4b8a"
      },
      "execution_count": 122,
      "outputs": [
        {
          "output_type": "stream",
          "name": "stdout",
          "text": [
            "+---+--------+------+------+-------+\n",
            "| id|    name|gender|salary|    dep|\n",
            "+---+--------+------+------+-------+\n",
            "|  2|    wafa|     M|  4000|     HR|\n",
            "|  4|sarfaraj|     M|  3000|     HR|\n",
            "|  1|  maheer|     M|  2000|     IT|\n",
            "|  3|     asi|     F|  3000|Payroll|\n",
            "+---+--------+------+------+-------+\n",
            "\n"
          ]
        }
      ]
    },
    {
      "cell_type": "code",
      "source": [
        "#union and union all\n",
        "\n",
        "\n",
        "\n",
        "# Create two DataFrames\n",
        "df1 = spark.createDataFrame([(1, \"Alice\"), (2, \"Bob\")], [\"id\", \"name\"])\n",
        "df2 = spark.createDataFrame([(2, \"Bob\"), (3, \"Charlie\")], [\"id\", \"name\"])\n",
        "\n",
        "# Use union to combine them (duplicate rows are removed)\n",
        "combined_df = df1.union(df2)\n",
        "combined_df.show()\n"
      ],
      "metadata": {
        "colab": {
          "base_uri": "https://localhost:8080/"
        },
        "id": "naj3PBb09cFt",
        "outputId": "1bc4262c-b252-435b-9fc2-3eefec80773b"
      },
      "execution_count": 123,
      "outputs": [
        {
          "output_type": "stream",
          "name": "stdout",
          "text": [
            "+---+-------+\n",
            "| id|   name|\n",
            "+---+-------+\n",
            "|  1|  Alice|\n",
            "|  2|    Bob|\n",
            "|  2|    Bob|\n",
            "|  3|Charlie|\n",
            "+---+-------+\n",
            "\n"
          ]
        }
      ]
    },
    {
      "cell_type": "code",
      "source": [
        "# Create two DataFrames dont use this\n",
        "df1 = spark.createDataFrame([(1, \"Alice\"), (2, \"Bob\")], [\"id\", \"name\"])\n",
        "df2 = spark.createDataFrame([(2, \"Bob\"), (3, \"Charlie\")], [\"id\", \"name\"])\n",
        "\n",
        "# Use unionAll to combine them (duplicate rows are retained)\n",
        "combined_df = df1.unionAll(df2)\n",
        "combined_df.show()\n"
      ],
      "metadata": {
        "colab": {
          "base_uri": "https://localhost:8080/"
        },
        "id": "rrZenDGT-8iA",
        "outputId": "83fe5aff-3317-4901-8d46-8acf10b874f9"
      },
      "execution_count": 124,
      "outputs": [
        {
          "output_type": "stream",
          "name": "stdout",
          "text": [
            "+---+-------+\n",
            "| id|   name|\n",
            "+---+-------+\n",
            "|  1|  Alice|\n",
            "|  2|    Bob|\n",
            "|  2|    Bob|\n",
            "|  3|Charlie|\n",
            "+---+-------+\n",
            "\n"
          ]
        }
      ]
    },
    {
      "cell_type": "code",
      "source": [
        "#Group by"
      ],
      "metadata": {
        "id": "C3oyTkxu_AtH"
      },
      "execution_count": 125,
      "outputs": []
    },
    {
      "cell_type": "code",
      "source": [
        "data = [(1, \"Alice\", \"A\", 100),\n",
        "        (2, \"Bob\", \"B\", 200),\n",
        "        (3, \"Charlie\", \"A\", 200),\n",
        "        (4, \"David\", \"B\", 300)]\n",
        "\n",
        "columns = [\"id\", \"name\", \"category\", \"amount\"]\n",
        "\n",
        "df = spark.createDataFrame(data, columns)\n"
      ],
      "metadata": {
        "id": "vzu_A4tF_wXn"
      },
      "execution_count": 127,
      "outputs": []
    },
    {
      "cell_type": "code",
      "source": [
        "df.groupBy('category').count().show()"
      ],
      "metadata": {
        "colab": {
          "base_uri": "https://localhost:8080/"
        },
        "id": "UCDoBEYB_xKn",
        "outputId": "b7897767-43fd-4b82-c9ef-fcf08a81ee68"
      },
      "execution_count": 133,
      "outputs": [
        {
          "output_type": "stream",
          "name": "stdout",
          "text": [
            "+--------+-----+\n",
            "|category|count|\n",
            "+--------+-----+\n",
            "|       B|    2|\n",
            "|       A|    2|\n",
            "+--------+-----+\n",
            "\n"
          ]
        }
      ]
    },
    {
      "cell_type": "code",
      "source": [
        "data = [\n",
        "    Row(id=1, name=\"Alice\", gender=\"Female\", department=\"HR\", sal=50000),\n",
        "    Row(id=2, name=\"Bob\", gender=\"Male\", department=\"IT\", sal=60000),\n",
        "    Row(id=3, name=\"Charlie\", gender=\"Male\", department=\"Finance\", sal=75000),\n",
        "    Row(id=4, name=\"David\", gender=\"Male\", department=\"IT\", sal=65000),\n",
        "    Row(id=5, name=\"Eve\", gender=\"Female\", department=\"Finance\", sal=70000)\n",
        "]\n",
        "\n",
        "\n",
        "\n",
        "df=spark.createDataFrame(data)"
      ],
      "metadata": {
        "id": "LrzCor41ASQK"
      },
      "execution_count": 134,
      "outputs": []
    },
    {
      "cell_type": "code",
      "source": [
        "df.show()"
      ],
      "metadata": {
        "colab": {
          "base_uri": "https://localhost:8080/"
        },
        "id": "CxMiCwmbCWtd",
        "outputId": "738ebf3d-ed06-4866-edf8-fbe90c65f7fc"
      },
      "execution_count": 135,
      "outputs": [
        {
          "output_type": "stream",
          "name": "stdout",
          "text": [
            "+---+-------+------+----------+-----+\n",
            "| id|   name|gender|department|  sal|\n",
            "+---+-------+------+----------+-----+\n",
            "|  1|  Alice|Female|        HR|50000|\n",
            "|  2|    Bob|  Male|        IT|60000|\n",
            "|  3|Charlie|  Male|   Finance|75000|\n",
            "|  4|  David|  Male|        IT|65000|\n",
            "|  5|    Eve|Female|   Finance|70000|\n",
            "+---+-------+------+----------+-----+\n",
            "\n"
          ]
        }
      ]
    },
    {
      "cell_type": "code",
      "source": [
        "df.groupBy('department').min('sal').show()"
      ],
      "metadata": {
        "colab": {
          "base_uri": "https://localhost:8080/"
        },
        "id": "nPd1B_U6CX-h",
        "outputId": "870edbbd-74e8-4307-d5a0-a02d66ab9fa7"
      },
      "execution_count": 137,
      "outputs": [
        {
          "output_type": "stream",
          "name": "stdout",
          "text": [
            "+----------+--------+\n",
            "|department|min(sal)|\n",
            "+----------+--------+\n",
            "|        HR|   50000|\n",
            "|        IT|   60000|\n",
            "|   Finance|   70000|\n",
            "+----------+--------+\n",
            "\n"
          ]
        }
      ]
    },
    {
      "cell_type": "code",
      "source": [
        "df.groupBy('department','gender').min('sal').show()"
      ],
      "metadata": {
        "colab": {
          "base_uri": "https://localhost:8080/"
        },
        "id": "TS031gGKCg-_",
        "outputId": "3475113a-666f-42d5-8472-ebe9fb227a76"
      },
      "execution_count": 138,
      "outputs": [
        {
          "output_type": "stream",
          "name": "stdout",
          "text": [
            "+----------+------+--------+\n",
            "|department|gender|min(sal)|\n",
            "+----------+------+--------+\n",
            "|        IT|  Male|   60000|\n",
            "|        HR|Female|   50000|\n",
            "|   Finance|Female|   70000|\n",
            "|   Finance|  Male|   75000|\n",
            "+----------+------+--------+\n",
            "\n"
          ]
        }
      ]
    },
    {
      "cell_type": "code",
      "source": [
        "df.groupBy('department','gender').count().show()"
      ],
      "metadata": {
        "colab": {
          "base_uri": "https://localhost:8080/"
        },
        "id": "blnWgwfCCmBc",
        "outputId": "e06317a7-1574-4ef0-db86-a5c886c69c95"
      },
      "execution_count": 139,
      "outputs": [
        {
          "output_type": "stream",
          "name": "stdout",
          "text": [
            "+----------+------+-----+\n",
            "|department|gender|count|\n",
            "+----------+------+-----+\n",
            "|        IT|  Male|    2|\n",
            "|        HR|Female|    1|\n",
            "|   Finance|Female|    1|\n",
            "|   Finance|  Male|    1|\n",
            "+----------+------+-----+\n",
            "\n"
          ]
        }
      ]
    },
    {
      "cell_type": "code",
      "source": [],
      "metadata": {
        "id": "csLb7QoZCsc5"
      },
      "execution_count": null,
      "outputs": []
    }
  ]
}