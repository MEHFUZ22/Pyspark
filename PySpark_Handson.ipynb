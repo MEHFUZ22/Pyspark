{
  "nbformat": 4,
  "nbformat_minor": 0,
  "metadata": {
    "colab": {
      "provenance": [],
      "authorship_tag": "ABX9TyPsD377GaBtMYNa8j0ju9kj",
      "include_colab_link": true
    },
    "kernelspec": {
      "name": "python3",
      "display_name": "Python 3"
    },
    "language_info": {
      "name": "python"
    }
  },
  "cells": [
    {
      "cell_type": "markdown",
      "metadata": {
        "id": "view-in-github",
        "colab_type": "text"
      },
      "source": [
        "<a href=\"https://colab.research.google.com/github/MEHFUZ22/Pyspark/blob/main/PySpark_Handson.ipynb\" target=\"_parent\"><img src=\"https://colab.research.google.com/assets/colab-badge.svg\" alt=\"Open In Colab\"/></a>"
      ]
    },
    {
      "cell_type": "code",
      "execution_count": 1,
      "metadata": {
        "colab": {
          "base_uri": "https://localhost:8080/"
        },
        "id": "oILJKLeJdebD",
        "outputId": "603e4882-bfbc-4cbe-f776-1c6ce7a3e688"
      },
      "outputs": [
        {
          "output_type": "stream",
          "name": "stdout",
          "text": [
            "Collecting pyspark\n",
            "  Downloading pyspark-3.4.1.tar.gz (310.8 MB)\n",
            "\u001b[2K     \u001b[90m━━━━━━━━━━━━━━━━━━━━━━━━━━━━━━━━━━━━━━━\u001b[0m \u001b[32m310.8/310.8 MB\u001b[0m \u001b[31m2.4 MB/s\u001b[0m eta \u001b[36m0:00:00\u001b[0m\n",
            "\u001b[?25h  Preparing metadata (setup.py) ... \u001b[?25l\u001b[?25hdone\n",
            "Requirement already satisfied: py4j==0.10.9.7 in /usr/local/lib/python3.10/dist-packages (from pyspark) (0.10.9.7)\n",
            "Building wheels for collected packages: pyspark\n",
            "  Building wheel for pyspark (setup.py) ... \u001b[?25l\u001b[?25hdone\n",
            "  Created wheel for pyspark: filename=pyspark-3.4.1-py2.py3-none-any.whl size=311285387 sha256=0dea0eded94beaf67e22efbb207336a5c2d0de932c2c2e7cef9f993113e2b2ae\n",
            "  Stored in directory: /root/.cache/pip/wheels/0d/77/a3/ff2f74cc9ab41f8f594dabf0579c2a7c6de920d584206e0834\n",
            "Successfully built pyspark\n",
            "Installing collected packages: pyspark\n",
            "Successfully installed pyspark-3.4.1\n"
          ]
        }
      ],
      "source": [
        "pip install pyspark\n"
      ]
    },
    {
      "cell_type": "code",
      "source": [
        "from pyspark.sql import SparkSession\n",
        "spark=SparkSession.builder.appName('').getOrCreate()\n"
      ],
      "metadata": {
        "id": "DpEw-mmediHj"
      },
      "execution_count": 2,
      "outputs": []
    },
    {
      "cell_type": "code",
      "source": [
        "from pyspark.sql.types import *\n",
        "\n",
        "data=[(1,'Mehfuz'),(2,'Rahman')]\n",
        "schema=StructType([\n",
        "    StructField(name='id',dataType=IntegerType()),\n",
        "    StructField(name='name',dataType=StringType())\n",
        "    ])\n",
        "df=spark.createDataFrame(data=data,schema=schema)\n"
      ],
      "metadata": {
        "id": "7meSAXOPdo39"
      },
      "execution_count": 3,
      "outputs": []
    },
    {
      "cell_type": "code",
      "source": [
        "df.show()"
      ],
      "metadata": {
        "colab": {
          "base_uri": "https://localhost:8080/"
        },
        "id": "JfkTu5LLdqCK",
        "outputId": "a0b75248-3fd0-4211-ace1-6f7a35e2f276"
      },
      "execution_count": 4,
      "outputs": [
        {
          "output_type": "stream",
          "name": "stdout",
          "text": [
            "+---+------+\n",
            "| id|  name|\n",
            "+---+------+\n",
            "|  1|Mehfuz|\n",
            "|  2|Rahman|\n",
            "+---+------+\n",
            "\n"
          ]
        }
      ]
    },
    {
      "cell_type": "code",
      "source": [
        "df.printSchema()"
      ],
      "metadata": {
        "colab": {
          "base_uri": "https://localhost:8080/"
        },
        "id": "7UQsrEWIdvVD",
        "outputId": "58010d35-9ae9-4435-89bc-7c2d447a1a7a"
      },
      "execution_count": 5,
      "outputs": [
        {
          "output_type": "stream",
          "name": "stdout",
          "text": [
            "root\n",
            " |-- id: integer (nullable = true)\n",
            " |-- name: string (nullable = true)\n",
            "\n"
          ]
        }
      ]
    },
    {
      "cell_type": "code",
      "source": [
        "##Second Lesson"
      ],
      "metadata": {
        "id": "wRt-qYwtdxmh"
      },
      "execution_count": 6,
      "outputs": []
    },
    {
      "cell_type": "code",
      "source": [
        "df=spark.read.csv('emp1.csv',header=True)\n",
        "df.show()\n",
        "df.printSchema()"
      ],
      "metadata": {
        "colab": {
          "base_uri": "https://localhost:8080/"
        },
        "id": "EDjikKBBfGcq",
        "outputId": "17798db6-84e6-4a49-95c3-718a6004f6af"
      },
      "execution_count": 7,
      "outputs": [
        {
          "output_type": "stream",
          "name": "stdout",
          "text": [
            "+---+------+------+------+\n",
            "| id|  name|gender|salary|\n",
            "+---+------+------+------+\n",
            "|  1|Mehfuz|  Male|  1000|\n",
            "|  2|Mazhab|  Male|  1000|\n",
            "+---+------+------+------+\n",
            "\n",
            "root\n",
            " |-- id: string (nullable = true)\n",
            " |-- name: string (nullable = true)\n",
            " |-- gender: string (nullable = true)\n",
            " |-- salary: string (nullable = true)\n",
            "\n"
          ]
        }
      ]
    },
    {
      "cell_type": "code",
      "source": [
        "schema=StructType().add('id',IntegerType())\\\n",
        "                    .add('name',StringType())\\\n",
        "                    .add('gender',StringType())\\\n",
        "                    .add('salary',IntegerType())\\\n",
        "\n",
        "\n",
        "df=spark.read.csv(['emp1.csv','emp2.csv'],schema=schema,header=True)\n",
        "df.show()\n",
        "df.printSchema()"
      ],
      "metadata": {
        "colab": {
          "base_uri": "https://localhost:8080/"
        },
        "id": "rP0XJ1duhgIh",
        "outputId": "fa6618c7-88d3-4e0c-e057-6e146210de6b"
      },
      "execution_count": 8,
      "outputs": [
        {
          "output_type": "stream",
          "name": "stdout",
          "text": [
            "+---+-------+------+------+\n",
            "| id|   name|gender|salary|\n",
            "+---+-------+------+------+\n",
            "|  1| Mehfuz|  Male|  1000|\n",
            "|  2| Mazhab|  Male|  1000|\n",
            "|  1|Bharath|  Male|  1000|\n",
            "|  2|  Vinay|  Male|  1000|\n",
            "+---+-------+------+------+\n",
            "\n",
            "root\n",
            " |-- id: integer (nullable = true)\n",
            " |-- name: string (nullable = true)\n",
            " |-- gender: string (nullable = true)\n",
            " |-- salary: integer (nullable = true)\n",
            "\n"
          ]
        }
      ]
    },
    {
      "cell_type": "code",
      "source": [
        "df.write.csv(\"new_emp\",header=True)"
      ],
      "metadata": {
        "id": "qpeMiPOih8bY"
      },
      "execution_count": 9,
      "outputs": []
    },
    {
      "cell_type": "code",
      "source": [
        "from pyspark.sql.functions import col,lit"
      ],
      "metadata": {
        "id": "yr7rbL1maiiv"
      },
      "execution_count": 10,
      "outputs": []
    },
    {
      "cell_type": "code",
      "source": [
        "df2=spark.read.csv('emp1.csv',header=True)"
      ],
      "metadata": {
        "id": "ulD2QYCafl3A"
      },
      "execution_count": 11,
      "outputs": []
    },
    {
      "cell_type": "code",
      "source": [
        "df2.show()\n",
        "df2.printSchema()"
      ],
      "metadata": {
        "colab": {
          "base_uri": "https://localhost:8080/"
        },
        "id": "zyODCtbBgCKW",
        "outputId": "94f98c47-4e1e-4b65-caae-496ed4258bb4"
      },
      "execution_count": 12,
      "outputs": [
        {
          "output_type": "stream",
          "name": "stdout",
          "text": [
            "+---+------+------+------+\n",
            "| id|  name|gender|salary|\n",
            "+---+------+------+------+\n",
            "|  1|Mehfuz|  Male|  1000|\n",
            "|  2|Mazhab|  Male|  1000|\n",
            "+---+------+------+------+\n",
            "\n",
            "root\n",
            " |-- id: string (nullable = true)\n",
            " |-- name: string (nullable = true)\n",
            " |-- gender: string (nullable = true)\n",
            " |-- salary: string (nullable = true)\n",
            "\n"
          ]
        }
      ]
    },
    {
      "cell_type": "code",
      "source": [
        "df2=df2.withColumn('salary',col('salary').cast('Integer'))"
      ],
      "metadata": {
        "id": "cQnMPrU2gEhy"
      },
      "execution_count": 13,
      "outputs": []
    },
    {
      "cell_type": "code",
      "source": [
        "df2.printSchema()"
      ],
      "metadata": {
        "colab": {
          "base_uri": "https://localhost:8080/"
        },
        "id": "cmndYb9qgbq5",
        "outputId": "e89964e4-5c45-468a-80cc-1fba4f8ab5e1"
      },
      "execution_count": 14,
      "outputs": [
        {
          "output_type": "stream",
          "name": "stdout",
          "text": [
            "root\n",
            " |-- id: string (nullable = true)\n",
            " |-- name: string (nullable = true)\n",
            " |-- gender: string (nullable = true)\n",
            " |-- salary: integer (nullable = true)\n",
            "\n"
          ]
        }
      ]
    },
    {
      "cell_type": "code",
      "source": [
        "df2=df2.withColumn('salary',col('salary')*2)\n",
        "df2.show()"
      ],
      "metadata": {
        "colab": {
          "base_uri": "https://localhost:8080/"
        },
        "id": "dNUlywghgsZX",
        "outputId": "51cfaec0-7589-4a8d-e21e-9eee541cb168"
      },
      "execution_count": 15,
      "outputs": [
        {
          "output_type": "stream",
          "name": "stdout",
          "text": [
            "+---+------+------+------+\n",
            "| id|  name|gender|salary|\n",
            "+---+------+------+------+\n",
            "|  1|Mehfuz|  Male|  2000|\n",
            "|  2|Mazhab|  Male|  2000|\n",
            "+---+------+------+------+\n",
            "\n"
          ]
        }
      ]
    },
    {
      "cell_type": "code",
      "source": [
        "def even(sal):\n",
        "  if sal%2==0:\n",
        "    return sal\n",
        "  else:\n",
        "    return None"
      ],
      "metadata": {
        "id": "K3tsBneciAMm"
      },
      "execution_count": 16,
      "outputs": []
    },
    {
      "cell_type": "code",
      "source": [
        "from pyspark.sql.functions import udf\n",
        "even=udf(even,IntegerType())"
      ],
      "metadata": {
        "id": "NoRiLwWDjAjJ"
      },
      "execution_count": 17,
      "outputs": []
    },
    {
      "cell_type": "code",
      "source": [
        "df2.withColumn('salary',even(df2['salary']))\n",
        "df2.show()"
      ],
      "metadata": {
        "colab": {
          "base_uri": "https://localhost:8080/"
        },
        "id": "Z8r4Kz6ziOhR",
        "outputId": "4f8f8386-c098-43ae-cff5-00e280d4f5ff"
      },
      "execution_count": 18,
      "outputs": [
        {
          "output_type": "stream",
          "name": "stdout",
          "text": [
            "+---+------+------+------+\n",
            "| id|  name|gender|salary|\n",
            "+---+------+------+------+\n",
            "|  1|Mehfuz|  Male|  2000|\n",
            "|  2|Mazhab|  Male|  2000|\n",
            "+---+------+------+------+\n",
            "\n"
          ]
        }
      ]
    },
    {
      "cell_type": "code",
      "source": [
        "df2=df2.withColumn('country',lit('India'))"
      ],
      "metadata": {
        "id": "Jwjt_NwPiXRp"
      },
      "execution_count": 19,
      "outputs": []
    },
    {
      "cell_type": "code",
      "source": [
        "df2.show()"
      ],
      "metadata": {
        "colab": {
          "base_uri": "https://localhost:8080/"
        },
        "id": "V2TO4eq5j4A5",
        "outputId": "372089f8-dcf2-4aa3-d06f-f7b9a67b09d6"
      },
      "execution_count": 20,
      "outputs": [
        {
          "output_type": "stream",
          "name": "stdout",
          "text": [
            "+---+------+------+------+-------+\n",
            "| id|  name|gender|salary|country|\n",
            "+---+------+------+------+-------+\n",
            "|  1|Mehfuz|  Male|  2000|  India|\n",
            "|  2|Mazhab|  Male|  2000|  India|\n",
            "+---+------+------+------+-------+\n",
            "\n"
          ]
        }
      ]
    },
    {
      "cell_type": "code",
      "source": [
        "# Sample DataFrame\n",
        "data = [(1, \"100\", \"2023-09-17\"), (2, \"200\", \"2023-09-18\")]\n",
        "columns = [\"id\", \"amount\", \"date\"]\n",
        "df = spark.createDataFrame(data, columns)\n",
        "\n",
        "# Define the new data types\n",
        "new_data_types = {\n",
        "    \"id\": \"double\",\n",
        "    \"amount\": \"integer\",\n",
        "    \"date\": \"date\"\n",
        "}\n",
        "\n",
        "# Convert the columns to the new data types\n",
        "for column, new_type in new_data_types.items():\n",
        "    df = df.withColumn(column, col(column).cast(new_type))\n",
        "\n",
        "# Show the DataFrame with updated data types\n",
        "df.printSchema()\n",
        "df.show()\n"
      ],
      "metadata": {
        "colab": {
          "base_uri": "https://localhost:8080/"
        },
        "id": "JTnAdC25j-zP",
        "outputId": "80fd657d-e175-41c9-9caf-d36cd5aeab9e"
      },
      "execution_count": 21,
      "outputs": [
        {
          "output_type": "stream",
          "name": "stdout",
          "text": [
            "root\n",
            " |-- id: double (nullable = true)\n",
            " |-- amount: integer (nullable = true)\n",
            " |-- date: date (nullable = true)\n",
            "\n",
            "+---+------+----------+\n",
            "| id|amount|      date|\n",
            "+---+------+----------+\n",
            "|1.0|   100|2023-09-17|\n",
            "|2.0|   200|2023-09-18|\n",
            "+---+------+----------+\n",
            "\n"
          ]
        }
      ]
    },
    {
      "cell_type": "code",
      "source": [
        "df=df.withColumnRenamed('amount','salary_amount')"
      ],
      "metadata": {
        "id": "Z5pgFfWVl0W6"
      },
      "execution_count": 22,
      "outputs": []
    },
    {
      "cell_type": "code",
      "source": [
        "df.show()"
      ],
      "metadata": {
        "colab": {
          "base_uri": "https://localhost:8080/"
        },
        "id": "YnrK5uO1nWke",
        "outputId": "e26d7c08-c111-4c0e-eec0-4d03f49af67f"
      },
      "execution_count": 23,
      "outputs": [
        {
          "output_type": "stream",
          "name": "stdout",
          "text": [
            "+---+-------------+----------+\n",
            "| id|salary_amount|      date|\n",
            "+---+-------------+----------+\n",
            "|1.0|          100|2023-09-17|\n",
            "|2.0|          200|2023-09-18|\n",
            "+---+-------------+----------+\n",
            "\n"
          ]
        }
      ]
    },
    {
      "cell_type": "code",
      "source": [
        "#complex columns"
      ],
      "metadata": {
        "id": "6IwnHr-nnYff"
      },
      "execution_count": 24,
      "outputs": []
    },
    {
      "cell_type": "code",
      "source": [
        "data=[(1,['Mehfuzur','rahman'],200),(2,['Mazhabur','Rahman'],300)]\n",
        "\n",
        "\n",
        "structName=StructType([\\\n",
        "                       StructField('FirstName',StringType()),\\\n",
        "                       StructField('LastName',StringType())\n",
        "                       ])\n",
        "\n",
        "schema=StructType([\\\n",
        "                  StructField('ID',IntegerType()),\\\n",
        "                   StructField('Name',structName),\\\n",
        "                   StructField('Salary',IntegerType())\n",
        "\n",
        "\n",
        "\n",
        "\n",
        "                   ])\n"
      ],
      "metadata": {
        "id": "h1KUGEAyoZIF"
      },
      "execution_count": 25,
      "outputs": []
    },
    {
      "cell_type": "code",
      "source": [
        "df=spark.createDataFrame(data,schema)"
      ],
      "metadata": {
        "id": "VUN-Sv_Op18t"
      },
      "execution_count": 26,
      "outputs": []
    },
    {
      "cell_type": "code",
      "source": [
        "df.show()"
      ],
      "metadata": {
        "id": "P34MAPi5p5jU",
        "outputId": "e773554a-cd86-48b3-ca1d-2c3fad8a95b5",
        "colab": {
          "base_uri": "https://localhost:8080/"
        }
      },
      "execution_count": 27,
      "outputs": [
        {
          "output_type": "stream",
          "name": "stdout",
          "text": [
            "+---+------------------+------+\n",
            "| ID|              Name|Salary|\n",
            "+---+------------------+------+\n",
            "|  1|{Mehfuzur, rahman}|   200|\n",
            "|  2|{Mazhabur, Rahman}|   300|\n",
            "+---+------------------+------+\n",
            "\n"
          ]
        }
      ]
    },
    {
      "cell_type": "code",
      "source": [
        "df.printSchema()"
      ],
      "metadata": {
        "id": "1MUBXM-wqAGx",
        "outputId": "3474b136-fa58-4b97-c436-0b3c85a189af",
        "colab": {
          "base_uri": "https://localhost:8080/"
        }
      },
      "execution_count": 28,
      "outputs": [
        {
          "output_type": "stream",
          "name": "stdout",
          "text": [
            "root\n",
            " |-- ID: integer (nullable = true)\n",
            " |-- Name: struct (nullable = true)\n",
            " |    |-- FirstName: string (nullable = true)\n",
            " |    |-- LastName: string (nullable = true)\n",
            " |-- Salary: integer (nullable = true)\n",
            "\n"
          ]
        }
      ]
    },
    {
      "cell_type": "code",
      "source": [
        "#MapColumn"
      ],
      "metadata": {
        "id": "DnWtT1EnqCtj"
      },
      "execution_count": 29,
      "outputs": []
    },
    {
      "cell_type": "code",
      "source": [
        "data=[('mehfuz',{'hair':'black','eye':'brown'}),('mazhab',{'hair':'silky_black','eye':'brown'})]\n",
        "schema=StructType([\\\n",
        "                   StructField('Names',StringType()),\\\n",
        "                   StructField('Properties',MapType(StringType(),StringType()))\n",
        "\n",
        "\n",
        "                   ])\n",
        "\n",
        "\n",
        "df=spark.createDataFrame(data,schema=schema)\n",
        "df.show(truncate=False)\n",
        "df.printSchema()"
      ],
      "metadata": {
        "colab": {
          "base_uri": "https://localhost:8080/"
        },
        "id": "ld7bncXx3w0k",
        "outputId": "69b9d593-1751-4e24-c416-ed4bff5561cf"
      },
      "execution_count": 30,
      "outputs": [
        {
          "output_type": "stream",
          "name": "stdout",
          "text": [
            "+------+-----------------------------------+\n",
            "|Names |Properties                         |\n",
            "+------+-----------------------------------+\n",
            "|mehfuz|{eye -> brown, hair -> black}      |\n",
            "|mazhab|{eye -> brown, hair -> silky_black}|\n",
            "+------+-----------------------------------+\n",
            "\n",
            "root\n",
            " |-- Names: string (nullable = true)\n",
            " |-- Properties: map (nullable = true)\n",
            " |    |-- key: string\n",
            " |    |-- value: string (valueContainsNull = true)\n",
            "\n"
          ]
        }
      ]
    },
    {
      "cell_type": "code",
      "source": [
        "df1=df.withColumn('Hair',df['properties']['hair'])\n",
        "df1.show()"
      ],
      "metadata": {
        "colab": {
          "base_uri": "https://localhost:8080/"
        },
        "id": "X0MMXyKO4Tw2",
        "outputId": "64267cdf-0e8c-4a1b-e3a2-91db961af473"
      },
      "execution_count": 31,
      "outputs": [
        {
          "output_type": "stream",
          "name": "stdout",
          "text": [
            "+------+--------------------+-----------+\n",
            "| Names|          Properties|       Hair|\n",
            "+------+--------------------+-----------+\n",
            "|mehfuz|{eye -> brown, ha...|      black|\n",
            "|mazhab|{eye -> brown, ha...|silky_black|\n",
            "+------+--------------------+-----------+\n",
            "\n"
          ]
        }
      ]
    },
    {
      "cell_type": "code",
      "source": [
        "df1=df.withColumn('Hair',df['Properties'].getItem('eye'))\n",
        "df1.show()"
      ],
      "metadata": {
        "colab": {
          "base_uri": "https://localhost:8080/"
        },
        "id": "G3zrpqSR-RWV",
        "outputId": "522bf424-7b5f-46ab-de48-6bd08e64c956"
      },
      "execution_count": 32,
      "outputs": [
        {
          "output_type": "stream",
          "name": "stdout",
          "text": [
            "+------+--------------------+-----+\n",
            "| Names|          Properties| Hair|\n",
            "+------+--------------------+-----+\n",
            "|mehfuz|{eye -> brown, ha...|brown|\n",
            "|mazhab|{eye -> brown, ha...|brown|\n",
            "+------+--------------------+-----+\n",
            "\n"
          ]
        }
      ]
    },
    {
      "cell_type": "code",
      "source": [],
      "metadata": {
        "id": "H42Yn3CY-Zdz"
      },
      "execution_count": 32,
      "outputs": []
    },
    {
      "cell_type": "code",
      "source": [
        "from pyspark.sql.functions import explode"
      ],
      "metadata": {
        "id": "JO9bqwJF_mVf"
      },
      "execution_count": 33,
      "outputs": []
    },
    {
      "cell_type": "code",
      "source": [
        "df1=df.select('Names','Properties',explode(df['Properties']))"
      ],
      "metadata": {
        "id": "zyemNwz4_xqB"
      },
      "execution_count": 34,
      "outputs": []
    },
    {
      "cell_type": "code",
      "source": [
        "df1.show(truncate=False)"
      ],
      "metadata": {
        "colab": {
          "base_uri": "https://localhost:8080/"
        },
        "id": "lslsUbDj_2vG",
        "outputId": "81de29bd-cbfa-4265-a91b-2b60615fef0e"
      },
      "execution_count": 35,
      "outputs": [
        {
          "output_type": "stream",
          "name": "stdout",
          "text": [
            "+------+-----------------------------------+----+-----------+\n",
            "|Names |Properties                         |key |value      |\n",
            "+------+-----------------------------------+----+-----------+\n",
            "|mehfuz|{eye -> brown, hair -> black}      |eye |brown      |\n",
            "|mehfuz|{eye -> brown, hair -> black}      |hair|black      |\n",
            "|mazhab|{eye -> brown, hair -> silky_black}|eye |brown      |\n",
            "|mazhab|{eye -> brown, hair -> silky_black}|hair|silky_black|\n",
            "+------+-----------------------------------+----+-----------+\n",
            "\n"
          ]
        }
      ]
    },
    {
      "cell_type": "code",
      "source": [
        "from pyspark.sql.functions import map_keys,map_values"
      ],
      "metadata": {
        "id": "5zCFv8g0_5fG"
      },
      "execution_count": 36,
      "outputs": []
    },
    {
      "cell_type": "code",
      "source": [
        "df.select('Names','Properties',map_keys(df['Properties'])).show()"
      ],
      "metadata": {
        "colab": {
          "base_uri": "https://localhost:8080/"
        },
        "id": "yfY3rXjSAOBC",
        "outputId": "7e53c398-ce31-459a-a181-842ab7d2eee7"
      },
      "execution_count": 37,
      "outputs": [
        {
          "output_type": "stream",
          "name": "stdout",
          "text": [
            "+------+--------------------+--------------------+\n",
            "| Names|          Properties|map_keys(Properties)|\n",
            "+------+--------------------+--------------------+\n",
            "|mehfuz|{eye -> brown, ha...|         [eye, hair]|\n",
            "|mazhab|{eye -> brown, ha...|         [eye, hair]|\n",
            "+------+--------------------+--------------------+\n",
            "\n"
          ]
        }
      ]
    },
    {
      "cell_type": "code",
      "source": [
        "df.select('Names','Properties',map_values(df['Properties'])).show()"
      ],
      "metadata": {
        "colab": {
          "base_uri": "https://localhost:8080/"
        },
        "id": "NwwPwj2hAZ6D",
        "outputId": "942ae3c0-cf92-4c90-dcc7-a5e692b42183"
      },
      "execution_count": 38,
      "outputs": [
        {
          "output_type": "stream",
          "name": "stdout",
          "text": [
            "+------+--------------------+----------------------+\n",
            "| Names|          Properties|map_values(Properties)|\n",
            "+------+--------------------+----------------------+\n",
            "|mehfuz|{eye -> brown, ha...|        [brown, black]|\n",
            "|mazhab|{eye -> brown, ha...|  [brown, silky_black]|\n",
            "+------+--------------------+----------------------+\n",
            "\n"
          ]
        }
      ]
    },
    {
      "cell_type": "code",
      "source": [
        "#ROW"
      ],
      "metadata": {
        "id": "TiKAq8z1AuhP"
      },
      "execution_count": 39,
      "outputs": []
    },
    {
      "cell_type": "code",
      "source": [
        "from pyspark.sql import Row"
      ],
      "metadata": {
        "id": "j_2c9AwlCwuj"
      },
      "execution_count": 40,
      "outputs": []
    },
    {
      "cell_type": "code",
      "source": [
        "row=Row('mehfuz',3000)\n",
        "print(row[0]+\" \"+str(row[1]))"
      ],
      "metadata": {
        "colab": {
          "base_uri": "https://localhost:8080/"
        },
        "id": "3TP_2eWJC13E",
        "outputId": "a651df94-4a0c-4d41-c61b-540c43aa9ae0"
      },
      "execution_count": 41,
      "outputs": [
        {
          "output_type": "stream",
          "name": "stdout",
          "text": [
            "mehfuz 3000\n"
          ]
        }
      ]
    },
    {
      "cell_type": "code",
      "source": [
        "row=Row(name='mehfuz',salary=3000)\n",
        "print(row.name+\" \"+str(row.salary))"
      ],
      "metadata": {
        "colab": {
          "base_uri": "https://localhost:8080/"
        },
        "id": "sEjuBE_bDEig",
        "outputId": "5c1c5690-0723-40f3-b2d2-6a6589d64f0a"
      },
      "execution_count": 42,
      "outputs": [
        {
          "output_type": "stream",
          "name": "stdout",
          "text": [
            "mehfuz 3000\n"
          ]
        }
      ]
    },
    {
      "cell_type": "code",
      "source": [
        "row1=Row(name='mehfuz',salary=3000)\n",
        "row2=Row(name='mazhab',salary=4000)\n",
        "\n",
        "\n",
        "data=[row1,row2]\n",
        "\n",
        "spark.createDataFrame(data).show(truncate=False)"
      ],
      "metadata": {
        "colab": {
          "base_uri": "https://localhost:8080/"
        },
        "id": "vLlGt3RFDMPS",
        "outputId": "7e52d40d-2445-4235-a8c8-9e75153c0993"
      },
      "execution_count": 43,
      "outputs": [
        {
          "output_type": "stream",
          "name": "stdout",
          "text": [
            "+------+------+\n",
            "|name  |salary|\n",
            "+------+------+\n",
            "|mehfuz|3000  |\n",
            "|mazhab|4000  |\n",
            "+------+------+\n",
            "\n"
          ]
        }
      ]
    },
    {
      "cell_type": "code",
      "source": [
        "Person=Row('name','salary')\n",
        "\n",
        "p1=Person('Mehfuz',3000)\n",
        "p2=Person('Mazhab',4000)\n",
        "\n",
        "\n",
        "spark.createDataFrame([p1,p2]).show(truncate=False)"
      ],
      "metadata": {
        "colab": {
          "base_uri": "https://localhost:8080/"
        },
        "id": "wADicd2wEBGx",
        "outputId": "03740297-5658-4e57-ff11-7e01150b886a"
      },
      "execution_count": 44,
      "outputs": [
        {
          "output_type": "stream",
          "name": "stdout",
          "text": [
            "+------+------+\n",
            "|name  |salary|\n",
            "+------+------+\n",
            "|Mehfuz|3000  |\n",
            "|Mazhab|4000  |\n",
            "+------+------+\n",
            "\n"
          ]
        }
      ]
    },
    {
      "cell_type": "code",
      "source": [
        "data=[\n",
        "      Row(name='Mehfuz',prop=Row(color='sawla',eye='brown')),\n",
        "      Row(name='Mazhab',prop=Row(color='fair',eye='brown'))\n",
        "      ]\n",
        "\n",
        "\n",
        "spark.createDataFrame(data).show()"
      ],
      "metadata": {
        "colab": {
          "base_uri": "https://localhost:8080/"
        },
        "id": "HR1zdX6jEiT4",
        "outputId": "83b43737-dbdd-4ae7-89de-48bd2b2b4ec9"
      },
      "execution_count": 45,
      "outputs": [
        {
          "output_type": "stream",
          "name": "stdout",
          "text": [
            "+------+--------------+\n",
            "|  name|          prop|\n",
            "+------+--------------+\n",
            "|Mehfuz|{sawla, brown}|\n",
            "|Mazhab| {fair, brown}|\n",
            "+------+--------------+\n",
            "\n"
          ]
        }
      ]
    },
    {
      "cell_type": "code",
      "source": [
        "row1=Row(name='mehfuz',salary=3)\n",
        "row2=Row(name='mazhab',salary=4)\n",
        "\n",
        "\n",
        "data=[row1,row2]\n",
        "\n",
        "df=spark.createDataFrame(data)"
      ],
      "metadata": {
        "id": "uf8avzNkFgqi"
      },
      "execution_count": 46,
      "outputs": []
    },
    {
      "cell_type": "code",
      "source": [
        "df.show()"
      ],
      "metadata": {
        "colab": {
          "base_uri": "https://localhost:8080/"
        },
        "id": "U-IWO2yMF4K3",
        "outputId": "f604ed63-9259-43da-a7fa-65b0da40f617"
      },
      "execution_count": 47,
      "outputs": [
        {
          "output_type": "stream",
          "name": "stdout",
          "text": [
            "+------+------+\n",
            "|  name|salary|\n",
            "+------+------+\n",
            "|mehfuz|     3|\n",
            "|mazhab|     4|\n",
            "+------+------+\n",
            "\n"
          ]
        }
      ]
    },
    {
      "cell_type": "code",
      "source": [
        "def even(sal):\n",
        "  if sal%2==0:\n",
        "    return 0\n",
        "  else:\n",
        "    return 1\n",
        "\n",
        "\n",
        "from pyspark.sql.functions import udf\n",
        "\n",
        "\n",
        "even_udf=udf(even)\n",
        "\n",
        "\n",
        "df.withColumn('ind',lit(even_udf(df['salary']))).show()"
      ],
      "metadata": {
        "colab": {
          "base_uri": "https://localhost:8080/"
        },
        "id": "GL0qop1zIE1Q",
        "outputId": "9ebfb0f2-2679-4fa8-8dc4-0bb1702151b5"
      },
      "execution_count": 48,
      "outputs": [
        {
          "output_type": "stream",
          "name": "stdout",
          "text": [
            "+------+------+---+\n",
            "|  name|salary|ind|\n",
            "+------+------+---+\n",
            "|mehfuz|     3|  1|\n",
            "|mazhab|     4|  0|\n",
            "+------+------+---+\n",
            "\n"
          ]
        }
      ]
    },
    {
      "cell_type": "code",
      "source": [
        "#WHEN AND OTHERWISE LIKE case statement in sql"
      ],
      "metadata": {
        "id": "DX5SydwJIlk5"
      },
      "execution_count": 49,
      "outputs": []
    },
    {
      "cell_type": "code",
      "source": [
        "row1=Row(name='mehfuz',salary=3,gender='F')\n",
        "row2=Row(name='mazhab',salary=4,gender='M')\n",
        "\n",
        "\n",
        "data=[row1,row2]\n",
        "\n",
        "df=spark.createDataFrame(data)"
      ],
      "metadata": {
        "id": "iliH1ZdjJI2a"
      },
      "execution_count": 50,
      "outputs": []
    },
    {
      "cell_type": "code",
      "source": [
        "df.show()"
      ],
      "metadata": {
        "colab": {
          "base_uri": "https://localhost:8080/"
        },
        "id": "bFOsLGe7KlFq",
        "outputId": "80e76e19-57d5-478b-d814-71c75293fb3c"
      },
      "execution_count": 51,
      "outputs": [
        {
          "output_type": "stream",
          "name": "stdout",
          "text": [
            "+------+------+------+\n",
            "|  name|salary|gender|\n",
            "+------+------+------+\n",
            "|mehfuz|     3|     F|\n",
            "|mazhab|     4|     M|\n",
            "+------+------+------+\n",
            "\n"
          ]
        }
      ]
    },
    {
      "cell_type": "code",
      "source": [
        "from pyspark.sql.functions import when"
      ],
      "metadata": {
        "id": "6B41GMzoKnRj"
      },
      "execution_count": 52,
      "outputs": []
    },
    {
      "cell_type": "code",
      "source": [
        "df1=df.select(df['name'],\\\n",
        "          df['salary'],\\\n",
        "          when(df.gender=='F','Female')\\\n",
        "          .when(df.gender=='M','Male')\\\n",
        "          .otherwise('unknown').alias('gender'))"
      ],
      "metadata": {
        "id": "CbF6ib1SKrWb"
      },
      "execution_count": 53,
      "outputs": []
    },
    {
      "cell_type": "code",
      "source": [
        "df1.show()"
      ],
      "metadata": {
        "colab": {
          "base_uri": "https://localhost:8080/"
        },
        "id": "XAS2A_nCLUxv",
        "outputId": "ed05cdbd-339b-4973-fb65-7f458a6d6de0"
      },
      "execution_count": 54,
      "outputs": [
        {
          "output_type": "stream",
          "name": "stdout",
          "text": [
            "+------+------+------+\n",
            "|  name|salary|gender|\n",
            "+------+------+------+\n",
            "|mehfuz|     3|Female|\n",
            "|mazhab|     4|  Male|\n",
            "+------+------+------+\n",
            "\n"
          ]
        }
      ]
    },
    {
      "cell_type": "code",
      "source": [
        "#alias"
      ],
      "metadata": {
        "id": "YWMwIF3qLXJE"
      },
      "execution_count": 55,
      "outputs": []
    },
    {
      "cell_type": "code",
      "source": [
        "df1.select(df1.name.alias('candidate'),df1.salary.alias('sal'),df1.gender.alias('sex')).show()"
      ],
      "metadata": {
        "id": "XWWsUQ9jMMYL",
        "outputId": "a047f449-2bc9-4c80-e2f8-42dfa18de6e2",
        "colab": {
          "base_uri": "https://localhost:8080/"
        }
      },
      "execution_count": 56,
      "outputs": [
        {
          "output_type": "stream",
          "name": "stdout",
          "text": [
            "+---------+---+------+\n",
            "|candidate|sal|   sex|\n",
            "+---------+---+------+\n",
            "|   mehfuz|  3|Female|\n",
            "|   mazhab|  4|  Male|\n",
            "+---------+---+------+\n",
            "\n"
          ]
        }
      ]
    },
    {
      "cell_type": "code",
      "source": [
        "df1.sort(df1.gender.asc()).show()"
      ],
      "metadata": {
        "id": "s7HcdfBqMkgL",
        "outputId": "a3223075-b256-44aa-b63e-28a31729f556",
        "colab": {
          "base_uri": "https://localhost:8080/"
        }
      },
      "execution_count": 57,
      "outputs": [
        {
          "output_type": "stream",
          "name": "stdout",
          "text": [
            "+------+------+------+\n",
            "|  name|salary|gender|\n",
            "+------+------+------+\n",
            "|mehfuz|     3|Female|\n",
            "|mazhab|     4|  Male|\n",
            "+------+------+------+\n",
            "\n"
          ]
        }
      ]
    },
    {
      "cell_type": "code",
      "source": [
        "#cast"
      ],
      "metadata": {
        "id": "YCo7votDM7r1"
      },
      "execution_count": 58,
      "outputs": []
    },
    {
      "cell_type": "code",
      "source": [
        "df1.printSchema()\n",
        "df1.show()"
      ],
      "metadata": {
        "id": "f33jvxS1NHup",
        "outputId": "04a438f1-a122-478c-b486-5e0d6405bae6",
        "colab": {
          "base_uri": "https://localhost:8080/"
        }
      },
      "execution_count": 59,
      "outputs": [
        {
          "output_type": "stream",
          "name": "stdout",
          "text": [
            "root\n",
            " |-- name: string (nullable = true)\n",
            " |-- salary: long (nullable = true)\n",
            " |-- gender: string (nullable = false)\n",
            "\n",
            "+------+------+------+\n",
            "|  name|salary|gender|\n",
            "+------+------+------+\n",
            "|mehfuz|     3|Female|\n",
            "|mazhab|     4|  Male|\n",
            "+------+------+------+\n",
            "\n"
          ]
        }
      ]
    },
    {
      "cell_type": "code",
      "source": [
        "df1.select(df1.salary.cast('int'))"
      ],
      "metadata": {
        "id": "cXt38F2pNJVK",
        "outputId": "06070a66-0935-4401-b205-bbfeec6da02d",
        "colab": {
          "base_uri": "https://localhost:8080/"
        }
      },
      "execution_count": 60,
      "outputs": [
        {
          "output_type": "execute_result",
          "data": {
            "text/plain": [
              "DataFrame[salary: int]"
            ]
          },
          "metadata": {},
          "execution_count": 60
        }
      ]
    },
    {
      "cell_type": "code",
      "source": [
        "#Like\n",
        "df1.filter(df.name.like(\"%z\")).show()"
      ],
      "metadata": {
        "id": "8AkGFVsKNQZq",
        "colab": {
          "base_uri": "https://localhost:8080/"
        },
        "outputId": "143b296b-a821-4267-8501-d6ce9dde6f3f"
      },
      "execution_count": 61,
      "outputs": [
        {
          "output_type": "stream",
          "name": "stdout",
          "text": [
            "+------+------+------+\n",
            "|  name|salary|gender|\n",
            "+------+------+------+\n",
            "|mehfuz|     3|Female|\n",
            "+------+------+------+\n",
            "\n"
          ]
        }
      ]
    },
    {
      "cell_type": "code",
      "source": [
        "#where\n",
        "\n",
        "df1.show()"
      ],
      "metadata": {
        "id": "RTM04hKBNuNN",
        "colab": {
          "base_uri": "https://localhost:8080/"
        },
        "outputId": "f3d99017-0467-4955-bc31-a7856b7a586c"
      },
      "execution_count": 62,
      "outputs": [
        {
          "output_type": "stream",
          "name": "stdout",
          "text": [
            "+------+------+------+\n",
            "|  name|salary|gender|\n",
            "+------+------+------+\n",
            "|mehfuz|     3|Female|\n",
            "|mazhab|     4|  Male|\n",
            "+------+------+------+\n",
            "\n"
          ]
        }
      ]
    },
    {
      "cell_type": "code",
      "source": [
        "df1.where((\"salary==4\") and (\"gender=='Male' \")).show()"
      ],
      "metadata": {
        "colab": {
          "base_uri": "https://localhost:8080/"
        },
        "id": "7tOn6QMz3Q-V",
        "outputId": "efedd07f-1174-49f8-9d3a-cee708a0c1a7"
      },
      "execution_count": 63,
      "outputs": [
        {
          "output_type": "stream",
          "name": "stdout",
          "text": [
            "+------+------+------+\n",
            "|  name|salary|gender|\n",
            "+------+------+------+\n",
            "|mazhab|     4|  Male|\n",
            "+------+------+------+\n",
            "\n"
          ]
        }
      ]
    },
    {
      "cell_type": "code",
      "source": [
        "data=[(1,'abc','male',1000),(2,'def','female',2000),(3,'ghi','male',2000),(4,'jkl','female',4000)]\n",
        "schema=['id','name','gender','salary']\n",
        "\n",
        "\n",
        "df=spark.createDataFrame(data,schema)\n",
        "df.show()\n",
        "df.printSchema()"
      ],
      "metadata": {
        "colab": {
          "base_uri": "https://localhost:8080/"
        },
        "id": "diEVT_md3wME",
        "outputId": "3c15de52-d5b2-4f3d-fdfc-425c71ee102e"
      },
      "execution_count": 64,
      "outputs": [
        {
          "output_type": "stream",
          "name": "stdout",
          "text": [
            "+---+----+------+------+\n",
            "| id|name|gender|salary|\n",
            "+---+----+------+------+\n",
            "|  1| abc|  male|  1000|\n",
            "|  2| def|female|  2000|\n",
            "|  3| ghi|  male|  2000|\n",
            "|  4| jkl|female|  4000|\n",
            "+---+----+------+------+\n",
            "\n",
            "root\n",
            " |-- id: long (nullable = true)\n",
            " |-- name: string (nullable = true)\n",
            " |-- gender: string (nullable = true)\n",
            " |-- salary: long (nullable = true)\n",
            "\n"
          ]
        }
      ]
    },
    {
      "cell_type": "code",
      "source": [
        "df.select('salary').distinct().show()"
      ],
      "metadata": {
        "colab": {
          "base_uri": "https://localhost:8080/"
        },
        "id": "M3358Vyq49vI",
        "outputId": "10aacf07-c1f0-44e6-e3dd-424191561b59"
      },
      "execution_count": 65,
      "outputs": [
        {
          "output_type": "stream",
          "name": "stdout",
          "text": [
            "+------+\n",
            "|salary|\n",
            "+------+\n",
            "|  1000|\n",
            "|  2000|\n",
            "|  4000|\n",
            "+------+\n",
            "\n"
          ]
        }
      ]
    },
    {
      "cell_type": "code",
      "source": [
        "df.distinct().show()"
      ],
      "metadata": {
        "colab": {
          "base_uri": "https://localhost:8080/"
        },
        "id": "L3-qSh1l5S2G",
        "outputId": "91f9c08e-0dbd-47a7-d1d2-4fa46d6bd296"
      },
      "execution_count": 66,
      "outputs": [
        {
          "output_type": "stream",
          "name": "stdout",
          "text": [
            "+---+----+------+------+\n",
            "| id|name|gender|salary|\n",
            "+---+----+------+------+\n",
            "|  2| def|female|  2000|\n",
            "|  1| abc|  male|  1000|\n",
            "|  4| jkl|female|  4000|\n",
            "|  3| ghi|  male|  2000|\n",
            "+---+----+------+------+\n",
            "\n"
          ]
        }
      ]
    },
    {
      "cell_type": "code",
      "source": [
        "df.dropDuplicates(['gender']).show()"
      ],
      "metadata": {
        "colab": {
          "base_uri": "https://localhost:8080/"
        },
        "id": "zECSm48s5yQ2",
        "outputId": "fbbc8323-dcb0-4a66-ff96-97bff98f72eb"
      },
      "execution_count": 67,
      "outputs": [
        {
          "output_type": "stream",
          "name": "stdout",
          "text": [
            "+---+----+------+------+\n",
            "| id|name|gender|salary|\n",
            "+---+----+------+------+\n",
            "|  2| def|female|  2000|\n",
            "|  1| abc|  male|  1000|\n",
            "+---+----+------+------+\n",
            "\n"
          ]
        }
      ]
    },
    {
      "cell_type": "code",
      "source": [
        "data = [(1, 'maheer', 'M', 2000, 'IT'),\n",
        "        (2, 'wafa', 'M', 4000, 'HR'),\n",
        "        (3, 'asi', 'F', 3000, 'Payroll'),\n",
        "        (4, 'sarfaraj', 'M',3000, 'HR')]\n",
        "\n",
        "\n",
        "schema = ['id', 'name', 'gender', 'salary', 'dep']\n",
        "df=spark.createDataFrame(data,schema)"
      ],
      "metadata": {
        "id": "y_0pbxks6Nl4"
      },
      "execution_count": 68,
      "outputs": []
    },
    {
      "cell_type": "code",
      "source": [
        "df.show()"
      ],
      "metadata": {
        "colab": {
          "base_uri": "https://localhost:8080/"
        },
        "id": "myTEVIOh8-lb",
        "outputId": "92951abf-e693-47e7-88d5-0a9ca387c579"
      },
      "execution_count": 69,
      "outputs": [
        {
          "output_type": "stream",
          "name": "stdout",
          "text": [
            "+---+--------+------+------+-------+\n",
            "| id|    name|gender|salary|    dep|\n",
            "+---+--------+------+------+-------+\n",
            "|  1|  maheer|     M|  2000|     IT|\n",
            "|  2|    wafa|     M|  4000|     HR|\n",
            "|  3|     asi|     F|  3000|Payroll|\n",
            "|  4|sarfaraj|     M|  3000|     HR|\n",
            "+---+--------+------+------+-------+\n",
            "\n"
          ]
        }
      ]
    },
    {
      "cell_type": "code",
      "source": [
        "df.sort(df.dep,df.id).show()"
      ],
      "metadata": {
        "colab": {
          "base_uri": "https://localhost:8080/"
        },
        "id": "4Gvhr2969CRV",
        "outputId": "4b8f5fa1-18c0-4c88-8883-dc1c6acc2b03"
      },
      "execution_count": 70,
      "outputs": [
        {
          "output_type": "stream",
          "name": "stdout",
          "text": [
            "+---+--------+------+------+-------+\n",
            "| id|    name|gender|salary|    dep|\n",
            "+---+--------+------+------+-------+\n",
            "|  2|    wafa|     M|  4000|     HR|\n",
            "|  4|sarfaraj|     M|  3000|     HR|\n",
            "|  1|  maheer|     M|  2000|     IT|\n",
            "|  3|     asi|     F|  3000|Payroll|\n",
            "+---+--------+------+------+-------+\n",
            "\n"
          ]
        }
      ]
    },
    {
      "cell_type": "code",
      "source": [
        "df.sort(df.dep.asc(),df.id.desc()).show()"
      ],
      "metadata": {
        "colab": {
          "base_uri": "https://localhost:8080/"
        },
        "id": "J0jHK9Ke9HA5",
        "outputId": "01cca5b6-319b-4dab-f41e-f561cc1eee72"
      },
      "execution_count": 71,
      "outputs": [
        {
          "output_type": "stream",
          "name": "stdout",
          "text": [
            "+---+--------+------+------+-------+\n",
            "| id|    name|gender|salary|    dep|\n",
            "+---+--------+------+------+-------+\n",
            "|  4|sarfaraj|     M|  3000|     HR|\n",
            "|  2|    wafa|     M|  4000|     HR|\n",
            "|  1|  maheer|     M|  2000|     IT|\n",
            "|  3|     asi|     F|  3000|Payroll|\n",
            "+---+--------+------+------+-------+\n",
            "\n"
          ]
        }
      ]
    },
    {
      "cell_type": "code",
      "source": [
        "df.orderBy(df.dep.asc(),df.id.desc()).show()"
      ],
      "metadata": {
        "colab": {
          "base_uri": "https://localhost:8080/"
        },
        "id": "G2U60U879Qv6",
        "outputId": "4096bc02-67dd-4fa3-dbe0-a035d3aaced0"
      },
      "execution_count": 72,
      "outputs": [
        {
          "output_type": "stream",
          "name": "stdout",
          "text": [
            "+---+--------+------+------+-------+\n",
            "| id|    name|gender|salary|    dep|\n",
            "+---+--------+------+------+-------+\n",
            "|  4|sarfaraj|     M|  3000|     HR|\n",
            "|  2|    wafa|     M|  4000|     HR|\n",
            "|  1|  maheer|     M|  2000|     IT|\n",
            "|  3|     asi|     F|  3000|Payroll|\n",
            "+---+--------+------+------+-------+\n",
            "\n"
          ]
        }
      ]
    },
    {
      "cell_type": "code",
      "source": [
        "df.orderBy(df.dep,df.id).show()"
      ],
      "metadata": {
        "colab": {
          "base_uri": "https://localhost:8080/"
        },
        "id": "3U6A89dQ9Xzq",
        "outputId": "8a4517d4-095f-4f54-e134-0c827951cfee"
      },
      "execution_count": 73,
      "outputs": [
        {
          "output_type": "stream",
          "name": "stdout",
          "text": [
            "+---+--------+------+------+-------+\n",
            "| id|    name|gender|salary|    dep|\n",
            "+---+--------+------+------+-------+\n",
            "|  2|    wafa|     M|  4000|     HR|\n",
            "|  4|sarfaraj|     M|  3000|     HR|\n",
            "|  1|  maheer|     M|  2000|     IT|\n",
            "|  3|     asi|     F|  3000|Payroll|\n",
            "+---+--------+------+------+-------+\n",
            "\n"
          ]
        }
      ]
    },
    {
      "cell_type": "code",
      "source": [
        "#union and union all\n",
        "\n",
        "\n",
        "\n",
        "# Create two DataFrames\n",
        "df1 = spark.createDataFrame([(1, \"Alice\"), (2, \"Bob\")], [\"id\", \"name\"])\n",
        "df2 = spark.createDataFrame([(2, \"Bob\"), (3, \"Charlie\")], [\"id\", \"name\"])\n",
        "\n",
        "# Use union to combine them (duplicate rows are removed)\n",
        "combined_df = df1.union(df2)\n",
        "combined_df.show()\n"
      ],
      "metadata": {
        "colab": {
          "base_uri": "https://localhost:8080/"
        },
        "id": "naj3PBb09cFt",
        "outputId": "f482027f-497c-4fc0-dc15-85b80224a2a5"
      },
      "execution_count": 74,
      "outputs": [
        {
          "output_type": "stream",
          "name": "stdout",
          "text": [
            "+---+-------+\n",
            "| id|   name|\n",
            "+---+-------+\n",
            "|  1|  Alice|\n",
            "|  2|    Bob|\n",
            "|  2|    Bob|\n",
            "|  3|Charlie|\n",
            "+---+-------+\n",
            "\n"
          ]
        }
      ]
    },
    {
      "cell_type": "code",
      "source": [
        "# Create two DataFrames dont use this\n",
        "df1 = spark.createDataFrame([(1, \"Alice\"), (2, \"Bob\")], [\"id\", \"name\"])\n",
        "df2 = spark.createDataFrame([(2, \"Bob\"), (3, \"Charlie\")], [\"id\", \"name\"])\n",
        "\n",
        "# Use unionAll to combine them (duplicate rows are retained)\n",
        "combined_df = df1.unionAll(df2)\n",
        "combined_df.show()\n"
      ],
      "metadata": {
        "colab": {
          "base_uri": "https://localhost:8080/"
        },
        "id": "rrZenDGT-8iA",
        "outputId": "8efa92da-9cb7-431d-f2d8-e79f03bf557c"
      },
      "execution_count": 75,
      "outputs": [
        {
          "output_type": "stream",
          "name": "stdout",
          "text": [
            "+---+-------+\n",
            "| id|   name|\n",
            "+---+-------+\n",
            "|  1|  Alice|\n",
            "|  2|    Bob|\n",
            "|  2|    Bob|\n",
            "|  3|Charlie|\n",
            "+---+-------+\n",
            "\n"
          ]
        }
      ]
    },
    {
      "cell_type": "code",
      "source": [
        "#Group by"
      ],
      "metadata": {
        "id": "C3oyTkxu_AtH"
      },
      "execution_count": 76,
      "outputs": []
    },
    {
      "cell_type": "code",
      "source": [
        "data = [(1, \"Alice\", \"A\", 100),\n",
        "        (2, \"Bob\", \"B\", 200),\n",
        "        (3, \"Charlie\", \"A\", 200),\n",
        "        (4, \"David\", \"B\", 300)]\n",
        "\n",
        "columns = [\"id\", \"name\", \"category\", \"amount\"]\n",
        "\n",
        "df = spark.createDataFrame(data, columns)\n"
      ],
      "metadata": {
        "id": "vzu_A4tF_wXn"
      },
      "execution_count": 77,
      "outputs": []
    },
    {
      "cell_type": "code",
      "source": [
        "df.groupBy('category').count().show()"
      ],
      "metadata": {
        "colab": {
          "base_uri": "https://localhost:8080/"
        },
        "id": "UCDoBEYB_xKn",
        "outputId": "a4166cb8-fea5-4d4f-b147-d2984dbcad58"
      },
      "execution_count": 78,
      "outputs": [
        {
          "output_type": "stream",
          "name": "stdout",
          "text": [
            "+--------+-----+\n",
            "|category|count|\n",
            "+--------+-----+\n",
            "|       B|    2|\n",
            "|       A|    2|\n",
            "+--------+-----+\n",
            "\n"
          ]
        }
      ]
    },
    {
      "cell_type": "code",
      "source": [
        "data = [\n",
        "    Row(id=1, name=\"Alice\", gender=\"Female\", department=\"HR\", sal=50000),\n",
        "    Row(id=2, name=\"Bob\", gender=\"Male\", department=\"IT\", sal=60000),\n",
        "    Row(id=3, name=\"Charlie\", gender=\"Male\", department=\"Finance\", sal=75000),\n",
        "    Row(id=4, name=\"David\", gender=\"Male\", department=\"IT\", sal=65000),\n",
        "    Row(id=5, name=\"Eve\", gender=\"Female\", department=\"Finance\", sal=70000)\n",
        "]\n",
        "\n",
        "\n",
        "\n",
        "df=spark.createDataFrame(data)"
      ],
      "metadata": {
        "id": "LrzCor41ASQK"
      },
      "execution_count": 79,
      "outputs": []
    },
    {
      "cell_type": "code",
      "source": [
        "df.show()"
      ],
      "metadata": {
        "colab": {
          "base_uri": "https://localhost:8080/"
        },
        "id": "CxMiCwmbCWtd",
        "outputId": "8e5cb58b-384c-4887-d515-5230e9fd0399"
      },
      "execution_count": 80,
      "outputs": [
        {
          "output_type": "stream",
          "name": "stdout",
          "text": [
            "+---+-------+------+----------+-----+\n",
            "| id|   name|gender|department|  sal|\n",
            "+---+-------+------+----------+-----+\n",
            "|  1|  Alice|Female|        HR|50000|\n",
            "|  2|    Bob|  Male|        IT|60000|\n",
            "|  3|Charlie|  Male|   Finance|75000|\n",
            "|  4|  David|  Male|        IT|65000|\n",
            "|  5|    Eve|Female|   Finance|70000|\n",
            "+---+-------+------+----------+-----+\n",
            "\n"
          ]
        }
      ]
    },
    {
      "cell_type": "code",
      "source": [
        "df.groupBy('department').min('sal').show()"
      ],
      "metadata": {
        "colab": {
          "base_uri": "https://localhost:8080/"
        },
        "id": "nPd1B_U6CX-h",
        "outputId": "83027879-4e19-4325-a481-7af5f012ad20"
      },
      "execution_count": 81,
      "outputs": [
        {
          "output_type": "stream",
          "name": "stdout",
          "text": [
            "+----------+--------+\n",
            "|department|min(sal)|\n",
            "+----------+--------+\n",
            "|        HR|   50000|\n",
            "|        IT|   60000|\n",
            "|   Finance|   70000|\n",
            "+----------+--------+\n",
            "\n"
          ]
        }
      ]
    },
    {
      "cell_type": "code",
      "source": [
        "df.groupBy('department','gender').min('sal').show()"
      ],
      "metadata": {
        "colab": {
          "base_uri": "https://localhost:8080/"
        },
        "id": "TS031gGKCg-_",
        "outputId": "ff5e03cd-fd7b-4ffe-f1a5-05eb90ccc58a"
      },
      "execution_count": 82,
      "outputs": [
        {
          "output_type": "stream",
          "name": "stdout",
          "text": [
            "+----------+------+--------+\n",
            "|department|gender|min(sal)|\n",
            "+----------+------+--------+\n",
            "|        IT|  Male|   60000|\n",
            "|        HR|Female|   50000|\n",
            "|   Finance|Female|   70000|\n",
            "|   Finance|  Male|   75000|\n",
            "+----------+------+--------+\n",
            "\n"
          ]
        }
      ]
    },
    {
      "cell_type": "code",
      "source": [
        "df.groupBy('department','gender').count().show()"
      ],
      "metadata": {
        "colab": {
          "base_uri": "https://localhost:8080/"
        },
        "id": "blnWgwfCCmBc",
        "outputId": "3a5bd564-c7cd-4502-a8ac-a9e992ba1718"
      },
      "execution_count": 83,
      "outputs": [
        {
          "output_type": "stream",
          "name": "stdout",
          "text": [
            "+----------+------+-----+\n",
            "|department|gender|count|\n",
            "+----------+------+-----+\n",
            "|        IT|  Male|    2|\n",
            "|        HR|Female|    1|\n",
            "|   Finance|Female|    1|\n",
            "|   Finance|  Male|    1|\n",
            "+----------+------+-----+\n",
            "\n"
          ]
        }
      ]
    },
    {
      "cell_type": "code",
      "source": [
        "from pyspark.sql.functions import count,min,max\n",
        "\n",
        "df.groupBy('department').agg(count('*').alias('No_emp'),\n",
        "                             min('sal').alias('MinSal'),\n",
        "                             max('sal').alias('MaxSal')\n",
        "                             ).show()"
      ],
      "metadata": {
        "colab": {
          "base_uri": "https://localhost:8080/"
        },
        "id": "csLb7QoZCsc5",
        "outputId": "0fa16f12-ba5f-40de-a0f3-82490ba6824f"
      },
      "execution_count": 84,
      "outputs": [
        {
          "output_type": "stream",
          "name": "stdout",
          "text": [
            "+----------+------+------+------+\n",
            "|department|No_emp|MinSal|MaxSal|\n",
            "+----------+------+------+------+\n",
            "|        HR|     1| 50000| 50000|\n",
            "|        IT|     2| 60000| 65000|\n",
            "|   Finance|     2| 70000| 75000|\n",
            "+----------+------+------+------+\n",
            "\n"
          ]
        }
      ]
    },
    {
      "cell_type": "code",
      "source": [
        "data1=[(1,'abc',22),(2,'def',23),(3,'ghi',24),(4,'jkl',25)]\n",
        "schema=['id','name','age']\n",
        "\n",
        "\n",
        "df1=spark.createDataFrame(data1,schema)\n",
        "\n",
        "\n",
        "data2=[(1,'abc',2234),(2,'def',2343),(3,'ghi',2465),(4,'jkl',2512)]\n",
        "schema=['id','name','salary']\n",
        "\n",
        "\n",
        "df2=spark.createDataFrame(data2,schema)\n"
      ],
      "metadata": {
        "id": "B-HmVnK0G7HK"
      },
      "execution_count": 87,
      "outputs": []
    },
    {
      "cell_type": "code",
      "source": [
        "df1.show()\n",
        "df2.show()\n",
        "\n",
        "\n",
        "\n",
        "df1.unionByName(df,allowMissingColumns=True).show()"
      ],
      "metadata": {
        "colab": {
          "base_uri": "https://localhost:8080/"
        },
        "id": "QEMuNEZbYKJB",
        "outputId": "f1d74cce-fb52-47a6-d912-56d78e72a086"
      },
      "execution_count": 89,
      "outputs": [
        {
          "output_type": "stream",
          "name": "stdout",
          "text": [
            "+---+----+---+\n",
            "| id|name|age|\n",
            "+---+----+---+\n",
            "|  1| abc| 22|\n",
            "|  2| def| 23|\n",
            "|  3| ghi| 24|\n",
            "|  4| jkl| 25|\n",
            "+---+----+---+\n",
            "\n",
            "+---+----+------+\n",
            "| id|name|salary|\n",
            "+---+----+------+\n",
            "|  1| abc|  2234|\n",
            "|  2| def|  2343|\n",
            "|  3| ghi|  2465|\n",
            "|  4| jkl|  2512|\n",
            "+---+----+------+\n",
            "\n",
            "+---+-------+----+------+----------+-----+\n",
            "| id|   name| age|gender|department|  sal|\n",
            "+---+-------+----+------+----------+-----+\n",
            "|  1|    abc|  22|  null|      null| null|\n",
            "|  2|    def|  23|  null|      null| null|\n",
            "|  3|    ghi|  24|  null|      null| null|\n",
            "|  4|    jkl|  25|  null|      null| null|\n",
            "|  1|  Alice|null|Female|        HR|50000|\n",
            "|  2|    Bob|null|  Male|        IT|60000|\n",
            "|  3|Charlie|null|  Male|   Finance|75000|\n",
            "|  4|  David|null|  Male|        IT|65000|\n",
            "|  5|    Eve|null|Female|   Finance|70000|\n",
            "+---+-------+----+------+----------+-----+\n",
            "\n"
          ]
        }
      ]
    },
    {
      "cell_type": "code",
      "source": [
        "#JOIN"
      ],
      "metadata": {
        "id": "7ihCPYHYYmfQ"
      },
      "execution_count": 90,
      "outputs": []
    },
    {
      "cell_type": "code",
      "source": [
        "data1 = [(1, 'maheer',2000,2), (2, 'wafa',3000,1), (3, 'abcd', 1000,4)]\n",
        "schema1 = ['id', 'name', 'salary', 'dep']\n",
        "\n",
        "data2 =[(1, 'IT'), (2, 'HR'), (3, 'Payroll')]\n",
        "schema2 = ['id', 'name']\n",
        "\n",
        "empDf = spark.createDataFrame(data1, schema1)\n",
        "depDf = spark.createDataFrame (data2, schema2)\n",
        "empDf.show()\n",
        "depDf.show()"
      ],
      "metadata": {
        "colab": {
          "base_uri": "https://localhost:8080/"
        },
        "id": "LVJq_GWZo6As",
        "outputId": "c76be017-9fca-4118-948d-da02d6ccd634"
      },
      "execution_count": 92,
      "outputs": [
        {
          "output_type": "stream",
          "name": "stdout",
          "text": [
            "+---+------+------+---+\n",
            "| id|  name|salary|dep|\n",
            "+---+------+------+---+\n",
            "|  1|maheer|  2000|  2|\n",
            "|  2|  wafa|  3000|  1|\n",
            "|  3|  abcd|  1000|  4|\n",
            "+---+------+------+---+\n",
            "\n",
            "+---+-------+\n",
            "| id|   name|\n",
            "+---+-------+\n",
            "|  1|     IT|\n",
            "|  2|     HR|\n",
            "|  3|Payroll|\n",
            "+---+-------+\n",
            "\n"
          ]
        }
      ]
    },
    {
      "cell_type": "code",
      "source": [
        "empDf.join(depDf,empDf.id==depDf.id,'inner').show()"
      ],
      "metadata": {
        "colab": {
          "base_uri": "https://localhost:8080/"
        },
        "id": "u4sB5tcQpKWa",
        "outputId": "d44e6b1c-eb81-42a3-f43f-d5a281f1d975"
      },
      "execution_count": 94,
      "outputs": [
        {
          "output_type": "stream",
          "name": "stdout",
          "text": [
            "+---+------+------+---+---+-------+\n",
            "| id|  name|salary|dep| id|   name|\n",
            "+---+------+------+---+---+-------+\n",
            "|  1|maheer|  2000|  2|  1|     IT|\n",
            "|  2|  wafa|  3000|  1|  2|     HR|\n",
            "|  3|  abcd|  1000|  4|  3|Payroll|\n",
            "+---+------+------+---+---+-------+\n",
            "\n"
          ]
        }
      ]
    },
    {
      "cell_type": "code",
      "source": [
        "empDf.join(depDf, empDf.id == depDf.id, 'inner').select(empDf.id, empDf.name, empDf.salary,depDf.name).show()"
      ],
      "metadata": {
        "colab": {
          "base_uri": "https://localhost:8080/"
        },
        "id": "TlU32lZRpw6a",
        "outputId": "c35b09ea-1c60-43fd-bb97-ddbed371e470"
      },
      "execution_count": 113,
      "outputs": [
        {
          "output_type": "stream",
          "name": "stdout",
          "text": [
            "+---+------+------+-------+\n",
            "| id|  name|salary|   name|\n",
            "+---+------+------+-------+\n",
            "|  1|maheer|  2000|     IT|\n",
            "|  2|  wafa|  3000|     HR|\n",
            "|  3|  abcd|  1000|Payroll|\n",
            "+---+------+------+-------+\n",
            "\n"
          ]
        }
      ]
    },
    {
      "cell_type": "code",
      "source": [
        "# Join the DataFrames based on multiple conditions using an inner join\n",
        "joinedDf = empDf.join(\n",
        "    depDf,\n",
        "    (empDf.id == depDf.id) & (empDf.salary > 2000) & (empDf.dep == \"IT\"),\n",
        "    'inner'\n",
        ")\n",
        "\n",
        "# Show the resulting DataFrame\n",
        "joinedDf.show()\n"
      ],
      "metadata": {
        "colab": {
          "base_uri": "https://localhost:8080/"
        },
        "id": "FhrsdjuAp47-",
        "outputId": "0a29f78e-4035-4dcc-bbdf-76838f1a50f1"
      },
      "execution_count": 116,
      "outputs": [
        {
          "output_type": "stream",
          "name": "stdout",
          "text": [
            "+---+----+------+---+---+----+\n",
            "| id|name|salary|dep| id|name|\n",
            "+---+----+------+---+---+----+\n",
            "+---+----+------+---+---+----+\n",
            "\n"
          ]
        }
      ]
    },
    {
      "cell_type": "code",
      "source": [
        "\"\""
      ],
      "metadata": {
        "id": "mFXq5Fd5p7sw"
      },
      "execution_count": null,
      "outputs": []
    }
  ]
}