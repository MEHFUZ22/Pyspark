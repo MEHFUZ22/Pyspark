{
  "nbformat": 4,
  "nbformat_minor": 0,
  "metadata": {
    "colab": {
      "provenance": [],
      "authorship_tag": "ABX9TyO0820HN/5RTOQvP28drYWI",
      "include_colab_link": true
    },
    "kernelspec": {
      "name": "python3",
      "display_name": "Python 3"
    },
    "language_info": {
      "name": "python"
    }
  },
  "cells": [
    {
      "cell_type": "markdown",
      "metadata": {
        "id": "view-in-github",
        "colab_type": "text"
      },
      "source": [
        "<a href=\"https://colab.research.google.com/github/MEHFUZ22/Pyspark/blob/main/PySpark_Handson.ipynb\" target=\"_parent\"><img src=\"https://colab.research.google.com/assets/colab-badge.svg\" alt=\"Open In Colab\"/></a>"
      ]
    },
    {
      "cell_type": "code",
      "execution_count": 1,
      "metadata": {
        "colab": {
          "base_uri": "https://localhost:8080/"
        },
        "id": "oILJKLeJdebD",
        "outputId": "706187b8-c740-4dbf-963b-b8975794fb31"
      },
      "outputs": [
        {
          "output_type": "stream",
          "name": "stdout",
          "text": [
            "Collecting pyspark\n",
            "  Downloading pyspark-3.4.1.tar.gz (310.8 MB)\n",
            "\u001b[2K     \u001b[90m━━━━━━━━━━━━━━━━━━━━━━━━━━━━━━━━━━━━━━━\u001b[0m \u001b[32m310.8/310.8 MB\u001b[0m \u001b[31m4.4 MB/s\u001b[0m eta \u001b[36m0:00:00\u001b[0m\n",
            "\u001b[?25h  Preparing metadata (setup.py) ... \u001b[?25l\u001b[?25hdone\n",
            "Requirement already satisfied: py4j==0.10.9.7 in /usr/local/lib/python3.10/dist-packages (from pyspark) (0.10.9.7)\n",
            "Building wheels for collected packages: pyspark\n",
            "  Building wheel for pyspark (setup.py) ... \u001b[?25l\u001b[?25hdone\n",
            "  Created wheel for pyspark: filename=pyspark-3.4.1-py2.py3-none-any.whl size=311285387 sha256=0dd0cc6d9e81fe29ea6452d1af7e12fbd2f52c2190c91c46a1317e94e5eba886\n",
            "  Stored in directory: /root/.cache/pip/wheels/0d/77/a3/ff2f74cc9ab41f8f594dabf0579c2a7c6de920d584206e0834\n",
            "Successfully built pyspark\n",
            "Installing collected packages: pyspark\n",
            "Successfully installed pyspark-3.4.1\n"
          ]
        }
      ],
      "source": [
        "pip install pyspark\n"
      ]
    },
    {
      "cell_type": "code",
      "source": [
        "from pyspark.sql import SparkSession\n",
        "spark=SparkSession.builder.appName('').getOrCreate()\n"
      ],
      "metadata": {
        "id": "DpEw-mmediHj"
      },
      "execution_count": 2,
      "outputs": []
    },
    {
      "cell_type": "code",
      "source": [
        "from pyspark.sql.types import *\n",
        "\n",
        "data=[(1,'Mehfuz'),(2,'Rahman')]\n",
        "schema=StructType([\n",
        "    StructField(name='id',dataType=IntegerType()),\n",
        "    StructField(name='name',dataType=StringType())\n",
        "    ])\n",
        "df=spark.createDataFrame(data=data,schema=schema)\n"
      ],
      "metadata": {
        "id": "7meSAXOPdo39"
      },
      "execution_count": 3,
      "outputs": []
    },
    {
      "cell_type": "code",
      "source": [
        "df.show()"
      ],
      "metadata": {
        "colab": {
          "base_uri": "https://localhost:8080/"
        },
        "id": "JfkTu5LLdqCK",
        "outputId": "61958e13-0f6c-4ae7-dfb0-e04446c961f5"
      },
      "execution_count": 4,
      "outputs": [
        {
          "output_type": "stream",
          "name": "stdout",
          "text": [
            "+---+------+\n",
            "| id|  name|\n",
            "+---+------+\n",
            "|  1|Mehfuz|\n",
            "|  2|Rahman|\n",
            "+---+------+\n",
            "\n"
          ]
        }
      ]
    },
    {
      "cell_type": "code",
      "source": [
        "df.printSchema()"
      ],
      "metadata": {
        "colab": {
          "base_uri": "https://localhost:8080/"
        },
        "id": "7UQsrEWIdvVD",
        "outputId": "2f2f40b5-d87d-4b76-c85d-20515fee94dc"
      },
      "execution_count": 5,
      "outputs": [
        {
          "output_type": "stream",
          "name": "stdout",
          "text": [
            "root\n",
            " |-- id: integer (nullable = true)\n",
            " |-- name: string (nullable = true)\n",
            "\n"
          ]
        }
      ]
    },
    {
      "cell_type": "code",
      "source": [
        "##Second Lesson"
      ],
      "metadata": {
        "id": "wRt-qYwtdxmh"
      },
      "execution_count": 6,
      "outputs": []
    },
    {
      "cell_type": "code",
      "source": [
        "df=spark.read.csv('emp1.csv',header=True)\n",
        "df.show()\n",
        "df.printSchema()"
      ],
      "metadata": {
        "colab": {
          "base_uri": "https://localhost:8080/"
        },
        "id": "EDjikKBBfGcq",
        "outputId": "31ccef79-3a9c-49f5-eb18-99808292e76e"
      },
      "execution_count": 7,
      "outputs": [
        {
          "output_type": "stream",
          "name": "stdout",
          "text": [
            "+---+------+------+------+\n",
            "| id|  name|gender|salary|\n",
            "+---+------+------+------+\n",
            "|  1|Mehfuz|  Male|  1000|\n",
            "|  2|Mazhab|  Male|  1000|\n",
            "+---+------+------+------+\n",
            "\n",
            "root\n",
            " |-- id: string (nullable = true)\n",
            " |-- name: string (nullable = true)\n",
            " |-- gender: string (nullable = true)\n",
            " |-- salary: string (nullable = true)\n",
            "\n"
          ]
        }
      ]
    },
    {
      "cell_type": "code",
      "source": [
        "schema=StructType().add('id',IntegerType())\\\n",
        "                    .add('name',StringType())\\\n",
        "                    .add('gender',StringType())\\\n",
        "                    .add('salary',IntegerType())\\\n",
        "\n",
        "\n",
        "df=spark.read.csv(['emp1.csv','emp2.csv'],schema=schema,header=True)\n",
        "df.show()\n",
        "df.printSchema()"
      ],
      "metadata": {
        "colab": {
          "base_uri": "https://localhost:8080/"
        },
        "id": "rP0XJ1duhgIh",
        "outputId": "8a74c3b3-5ad7-4357-d04a-f76a3c2c1abb"
      },
      "execution_count": 8,
      "outputs": [
        {
          "output_type": "stream",
          "name": "stdout",
          "text": [
            "+---+-------+------+------+\n",
            "| id|   name|gender|salary|\n",
            "+---+-------+------+------+\n",
            "|  1| Mehfuz|  Male|  1000|\n",
            "|  2| Mazhab|  Male|  1000|\n",
            "|  1|Bharath|  Male|  1000|\n",
            "|  2|  Vinay|  Male|  1000|\n",
            "+---+-------+------+------+\n",
            "\n",
            "root\n",
            " |-- id: integer (nullable = true)\n",
            " |-- name: string (nullable = true)\n",
            " |-- gender: string (nullable = true)\n",
            " |-- salary: integer (nullable = true)\n",
            "\n"
          ]
        }
      ]
    },
    {
      "cell_type": "code",
      "source": [
        "df.write.csv(\"new_emp\",header=True)"
      ],
      "metadata": {
        "id": "qpeMiPOih8bY"
      },
      "execution_count": 9,
      "outputs": []
    },
    {
      "cell_type": "code",
      "source": [
        "from pyspark.sql.functions import col,lit"
      ],
      "metadata": {
        "id": "yr7rbL1maiiv"
      },
      "execution_count": 10,
      "outputs": []
    },
    {
      "cell_type": "code",
      "source": [
        "df2=spark.read.csv('emp1.csv',header=True)"
      ],
      "metadata": {
        "id": "ulD2QYCafl3A"
      },
      "execution_count": 11,
      "outputs": []
    },
    {
      "cell_type": "code",
      "source": [
        "df2.show()\n",
        "df2.printSchema()"
      ],
      "metadata": {
        "colab": {
          "base_uri": "https://localhost:8080/"
        },
        "id": "zyODCtbBgCKW",
        "outputId": "f23349ad-8216-415e-ffd0-a5de842d1904"
      },
      "execution_count": 12,
      "outputs": [
        {
          "output_type": "stream",
          "name": "stdout",
          "text": [
            "+---+------+------+------+\n",
            "| id|  name|gender|salary|\n",
            "+---+------+------+------+\n",
            "|  1|Mehfuz|  Male|  1000|\n",
            "|  2|Mazhab|  Male|  1000|\n",
            "+---+------+------+------+\n",
            "\n",
            "root\n",
            " |-- id: string (nullable = true)\n",
            " |-- name: string (nullable = true)\n",
            " |-- gender: string (nullable = true)\n",
            " |-- salary: string (nullable = true)\n",
            "\n"
          ]
        }
      ]
    },
    {
      "cell_type": "code",
      "source": [
        "df2=df2.withColumn('salary',col('salary').cast('Integer'))"
      ],
      "metadata": {
        "id": "cQnMPrU2gEhy"
      },
      "execution_count": 13,
      "outputs": []
    },
    {
      "cell_type": "code",
      "source": [
        "df2.printSchema()"
      ],
      "metadata": {
        "colab": {
          "base_uri": "https://localhost:8080/"
        },
        "id": "cmndYb9qgbq5",
        "outputId": "e014d930-030e-48d3-e431-05b3cd77c5b8"
      },
      "execution_count": 14,
      "outputs": [
        {
          "output_type": "stream",
          "name": "stdout",
          "text": [
            "root\n",
            " |-- id: string (nullable = true)\n",
            " |-- name: string (nullable = true)\n",
            " |-- gender: string (nullable = true)\n",
            " |-- salary: integer (nullable = true)\n",
            "\n"
          ]
        }
      ]
    },
    {
      "cell_type": "code",
      "source": [
        "df2=df2.withColumn('salary',col('salary')*2)\n",
        "df2.show()"
      ],
      "metadata": {
        "colab": {
          "base_uri": "https://localhost:8080/"
        },
        "id": "dNUlywghgsZX",
        "outputId": "afe038e7-def8-4f16-b332-9d53f4db012e"
      },
      "execution_count": 15,
      "outputs": [
        {
          "output_type": "stream",
          "name": "stdout",
          "text": [
            "+---+------+------+------+\n",
            "| id|  name|gender|salary|\n",
            "+---+------+------+------+\n",
            "|  1|Mehfuz|  Male|  2000|\n",
            "|  2|Mazhab|  Male|  2000|\n",
            "+---+------+------+------+\n",
            "\n"
          ]
        }
      ]
    },
    {
      "cell_type": "code",
      "source": [
        "def even(sal):\n",
        "  if sal%2==0:\n",
        "    return sal\n",
        "  else:\n",
        "    return None"
      ],
      "metadata": {
        "id": "K3tsBneciAMm"
      },
      "execution_count": 16,
      "outputs": []
    },
    {
      "cell_type": "code",
      "source": [
        "from pyspark.sql.functions import udf\n",
        "even=udf(even,IntegerType())"
      ],
      "metadata": {
        "id": "NoRiLwWDjAjJ"
      },
      "execution_count": 17,
      "outputs": []
    },
    {
      "cell_type": "code",
      "source": [
        "df2.withColumn('salary',even(df2['salary']))\n",
        "df2.show()"
      ],
      "metadata": {
        "colab": {
          "base_uri": "https://localhost:8080/"
        },
        "id": "Z8r4Kz6ziOhR",
        "outputId": "571d3793-5fa2-4380-ae53-a27ea3c66016"
      },
      "execution_count": 18,
      "outputs": [
        {
          "output_type": "stream",
          "name": "stdout",
          "text": [
            "+---+------+------+------+\n",
            "| id|  name|gender|salary|\n",
            "+---+------+------+------+\n",
            "|  1|Mehfuz|  Male|  2000|\n",
            "|  2|Mazhab|  Male|  2000|\n",
            "+---+------+------+------+\n",
            "\n"
          ]
        }
      ]
    },
    {
      "cell_type": "code",
      "source": [
        "df2=df2.withColumn('country',lit('India'))"
      ],
      "metadata": {
        "id": "Jwjt_NwPiXRp"
      },
      "execution_count": 19,
      "outputs": []
    },
    {
      "cell_type": "code",
      "source": [
        "df2.show()"
      ],
      "metadata": {
        "colab": {
          "base_uri": "https://localhost:8080/"
        },
        "id": "V2TO4eq5j4A5",
        "outputId": "3d8f5857-b292-4b7a-e6e9-adefb4f78852"
      },
      "execution_count": 20,
      "outputs": [
        {
          "output_type": "stream",
          "name": "stdout",
          "text": [
            "+---+------+------+------+-------+\n",
            "| id|  name|gender|salary|country|\n",
            "+---+------+------+------+-------+\n",
            "|  1|Mehfuz|  Male|  2000|  India|\n",
            "|  2|Mazhab|  Male|  2000|  India|\n",
            "+---+------+------+------+-------+\n",
            "\n"
          ]
        }
      ]
    },
    {
      "cell_type": "code",
      "source": [
        "# Sample DataFrame\n",
        "data = [(1, \"100\", \"2023-09-17\"), (2, \"200\", \"2023-09-18\")]\n",
        "columns = [\"id\", \"amount\", \"date\"]\n",
        "df = spark.createDataFrame(data, columns)\n",
        "\n",
        "# Define the new data types\n",
        "new_data_types = {\n",
        "    \"id\": \"double\",\n",
        "    \"amount\": \"integer\",\n",
        "    \"date\": \"date\"\n",
        "}\n",
        "\n",
        "# Convert the columns to the new data types\n",
        "for column, new_type in new_data_types.items():\n",
        "    df = df.withColumn(column, col(column).cast(new_type))\n",
        "\n",
        "# Show the DataFrame with updated data types\n",
        "df.printSchema()\n",
        "df.show()\n"
      ],
      "metadata": {
        "colab": {
          "base_uri": "https://localhost:8080/"
        },
        "id": "JTnAdC25j-zP",
        "outputId": "853e0257-22df-4680-8d26-52b76322d9a7"
      },
      "execution_count": 21,
      "outputs": [
        {
          "output_type": "stream",
          "name": "stdout",
          "text": [
            "root\n",
            " |-- id: double (nullable = true)\n",
            " |-- amount: integer (nullable = true)\n",
            " |-- date: date (nullable = true)\n",
            "\n",
            "+---+------+----------+\n",
            "| id|amount|      date|\n",
            "+---+------+----------+\n",
            "|1.0|   100|2023-09-17|\n",
            "|2.0|   200|2023-09-18|\n",
            "+---+------+----------+\n",
            "\n"
          ]
        }
      ]
    },
    {
      "cell_type": "code",
      "source": [
        "df=df.withColumnRenamed('amount','salary_amount')"
      ],
      "metadata": {
        "id": "Z5pgFfWVl0W6"
      },
      "execution_count": 22,
      "outputs": []
    },
    {
      "cell_type": "code",
      "source": [
        "df.show()"
      ],
      "metadata": {
        "colab": {
          "base_uri": "https://localhost:8080/"
        },
        "id": "YnrK5uO1nWke",
        "outputId": "b66b0da2-45b5-41f7-d999-af1923122edf"
      },
      "execution_count": 23,
      "outputs": [
        {
          "output_type": "stream",
          "name": "stdout",
          "text": [
            "+---+-------------+----------+\n",
            "| id|salary_amount|      date|\n",
            "+---+-------------+----------+\n",
            "|1.0|          100|2023-09-17|\n",
            "|2.0|          200|2023-09-18|\n",
            "+---+-------------+----------+\n",
            "\n"
          ]
        }
      ]
    },
    {
      "cell_type": "code",
      "source": [
        "#complex columns"
      ],
      "metadata": {
        "id": "6IwnHr-nnYff"
      },
      "execution_count": 24,
      "outputs": []
    },
    {
      "cell_type": "code",
      "source": [
        "data=[(1,['Mehfuzur','rahman'],200),(2,['Mazhabur','Rahman'],300)]\n",
        "\n",
        "\n",
        "structName=StructType([\\\n",
        "                       StructField('FirstName',StringType()),\\\n",
        "                       StructField('LastName',StringType())\n",
        "                       ])\n",
        "\n",
        "schema=StructType([\\\n",
        "                  StructField('ID',IntegerType()),\\\n",
        "                   StructField('Name',structName),\\\n",
        "                   StructField('Salary',IntegerType())\n",
        "\n",
        "\n",
        "\n",
        "\n",
        "                   ])\n"
      ],
      "metadata": {
        "id": "h1KUGEAyoZIF"
      },
      "execution_count": 25,
      "outputs": []
    },
    {
      "cell_type": "code",
      "source": [
        "df=spark.createDataFrame(data,schema)"
      ],
      "metadata": {
        "id": "VUN-Sv_Op18t"
      },
      "execution_count": 26,
      "outputs": []
    },
    {
      "cell_type": "code",
      "source": [
        "df.show()"
      ],
      "metadata": {
        "id": "P34MAPi5p5jU",
        "outputId": "74ddd291-1010-4823-e53d-2f35662d5f9e",
        "colab": {
          "base_uri": "https://localhost:8080/"
        }
      },
      "execution_count": 27,
      "outputs": [
        {
          "output_type": "stream",
          "name": "stdout",
          "text": [
            "+---+------------------+------+\n",
            "| ID|              Name|Salary|\n",
            "+---+------------------+------+\n",
            "|  1|{Mehfuzur, rahman}|   200|\n",
            "|  2|{Mazhabur, Rahman}|   300|\n",
            "+---+------------------+------+\n",
            "\n"
          ]
        }
      ]
    },
    {
      "cell_type": "code",
      "source": [
        "df.printSchema()"
      ],
      "metadata": {
        "id": "1MUBXM-wqAGx",
        "outputId": "22e2ffd5-539e-4137-b70c-cf034a709444",
        "colab": {
          "base_uri": "https://localhost:8080/"
        }
      },
      "execution_count": 28,
      "outputs": [
        {
          "output_type": "stream",
          "name": "stdout",
          "text": [
            "root\n",
            " |-- ID: integer (nullable = true)\n",
            " |-- Name: struct (nullable = true)\n",
            " |    |-- FirstName: string (nullable = true)\n",
            " |    |-- LastName: string (nullable = true)\n",
            " |-- Salary: integer (nullable = true)\n",
            "\n"
          ]
        }
      ]
    },
    {
      "cell_type": "code",
      "source": [
        "#MapColumn"
      ],
      "metadata": {
        "id": "DnWtT1EnqCtj"
      },
      "execution_count": 29,
      "outputs": []
    },
    {
      "cell_type": "code",
      "source": [
        "data=[('mehfuz',{'hair':'black','eye':'brown'}),('mazhab',{'hair':'silky_black','eye':'brown'})]\n",
        "schema=StructType([\\\n",
        "                   StructField('Names',StringType()),\\\n",
        "                   StructField('Properties',MapType(StringType(),StringType()))\n",
        "\n",
        "\n",
        "                   ])\n",
        "\n",
        "\n",
        "df=spark.createDataFrame(data,schema=schema)\n",
        "df.show(truncate=False)\n",
        "df.printSchema()"
      ],
      "metadata": {
        "colab": {
          "base_uri": "https://localhost:8080/"
        },
        "id": "ld7bncXx3w0k",
        "outputId": "179e0116-0acd-4dc3-80ca-7d76e7ea0322"
      },
      "execution_count": 37,
      "outputs": [
        {
          "output_type": "stream",
          "name": "stdout",
          "text": [
            "+------+-----------------------------------+\n",
            "|Names |Properties                         |\n",
            "+------+-----------------------------------+\n",
            "|mehfuz|{eye -> brown, hair -> black}      |\n",
            "|mazhab|{eye -> brown, hair -> silky_black}|\n",
            "+------+-----------------------------------+\n",
            "\n",
            "root\n",
            " |-- Names: string (nullable = true)\n",
            " |-- Properties: map (nullable = true)\n",
            " |    |-- key: string\n",
            " |    |-- value: string (valueContainsNull = true)\n",
            "\n"
          ]
        }
      ]
    },
    {
      "cell_type": "code",
      "source": [
        "df1=df.withColumn('Hair',df['properties']['hair'])\n",
        "df1.show()"
      ],
      "metadata": {
        "colab": {
          "base_uri": "https://localhost:8080/"
        },
        "id": "X0MMXyKO4Tw2",
        "outputId": "b4fd0995-bc0b-4960-b0e1-826ace82b86c"
      },
      "execution_count": 38,
      "outputs": [
        {
          "output_type": "stream",
          "name": "stdout",
          "text": [
            "+------+--------------------+-----------+\n",
            "| Names|          Properties|       Hair|\n",
            "+------+--------------------+-----------+\n",
            "|mehfuz|{eye -> brown, ha...|      black|\n",
            "|mazhab|{eye -> brown, ha...|silky_black|\n",
            "+------+--------------------+-----------+\n",
            "\n"
          ]
        }
      ]
    },
    {
      "cell_type": "code",
      "source": [
        "df1=df.withColumn('Hair',df['Properties'].getItem('eye'))\n",
        "df1.show()"
      ],
      "metadata": {
        "colab": {
          "base_uri": "https://localhost:8080/"
        },
        "id": "G3zrpqSR-RWV",
        "outputId": "0d84431c-0f91-4d1f-8937-5c885019c1c8"
      },
      "execution_count": 41,
      "outputs": [
        {
          "output_type": "stream",
          "name": "stdout",
          "text": [
            "+------+--------------------+-----+\n",
            "| Names|          Properties| Hair|\n",
            "+------+--------------------+-----+\n",
            "|mehfuz|{eye -> brown, ha...|brown|\n",
            "|mazhab|{eye -> brown, ha...|brown|\n",
            "+------+--------------------+-----+\n",
            "\n"
          ]
        }
      ]
    },
    {
      "cell_type": "code",
      "source": [],
      "metadata": {
        "id": "H42Yn3CY-Zdz"
      },
      "execution_count": 44,
      "outputs": []
    },
    {
      "cell_type": "code",
      "source": [
        "from pyspark.sql.functions import explode"
      ],
      "metadata": {
        "id": "JO9bqwJF_mVf"
      },
      "execution_count": 44,
      "outputs": []
    },
    {
      "cell_type": "code",
      "source": [
        "df1=df.select('Names','Properties',explode(df['Properties']))"
      ],
      "metadata": {
        "id": "zyemNwz4_xqB"
      },
      "execution_count": 47,
      "outputs": []
    },
    {
      "cell_type": "code",
      "source": [
        "df1.show(truncate=False)"
      ],
      "metadata": {
        "id": "lslsUbDj_2vG",
        "outputId": "9f3ad79e-9e22-48d5-f0f4-978894394388",
        "colab": {
          "base_uri": "https://localhost:8080/"
        }
      },
      "execution_count": 49,
      "outputs": [
        {
          "output_type": "stream",
          "name": "stdout",
          "text": [
            "+------+-----------------------------------+----+-----------+\n",
            "|Names |Properties                         |key |value      |\n",
            "+------+-----------------------------------+----+-----------+\n",
            "|mehfuz|{eye -> brown, hair -> black}      |eye |brown      |\n",
            "|mehfuz|{eye -> brown, hair -> black}      |hair|black      |\n",
            "|mazhab|{eye -> brown, hair -> silky_black}|eye |brown      |\n",
            "|mazhab|{eye -> brown, hair -> silky_black}|hair|silky_black|\n",
            "+------+-----------------------------------+----+-----------+\n",
            "\n"
          ]
        }
      ]
    },
    {
      "cell_type": "code",
      "source": [
        "from pyspark.sql.functions import map_keys,map_values"
      ],
      "metadata": {
        "id": "5zCFv8g0_5fG"
      },
      "execution_count": 54,
      "outputs": []
    },
    {
      "cell_type": "code",
      "source": [
        "df.select('Names','Properties',map_keys(df['Properties'])).show()"
      ],
      "metadata": {
        "id": "yfY3rXjSAOBC",
        "outputId": "5a88bc09-c917-4824-f252-40f88a88086a",
        "colab": {
          "base_uri": "https://localhost:8080/"
        }
      },
      "execution_count": 53,
      "outputs": [
        {
          "output_type": "stream",
          "name": "stdout",
          "text": [
            "+------+--------------------+--------------------+\n",
            "| Names|          Properties|map_keys(Properties)|\n",
            "+------+--------------------+--------------------+\n",
            "|mehfuz|{eye -> brown, ha...|         [eye, hair]|\n",
            "|mazhab|{eye -> brown, ha...|         [eye, hair]|\n",
            "+------+--------------------+--------------------+\n",
            "\n"
          ]
        }
      ]
    },
    {
      "cell_type": "code",
      "source": [
        "df.select('Names','Properties',map_values(df['Properties'])).show()"
      ],
      "metadata": {
        "id": "NwwPwj2hAZ6D",
        "outputId": "df8b62db-9df9-407f-b9f3-a917490f52d7",
        "colab": {
          "base_uri": "https://localhost:8080/"
        }
      },
      "execution_count": 55,
      "outputs": [
        {
          "output_type": "stream",
          "name": "stdout",
          "text": [
            "+------+--------------------+----------------------+\n",
            "| Names|          Properties|map_values(Properties)|\n",
            "+------+--------------------+----------------------+\n",
            "|mehfuz|{eye -> brown, ha...|        [brown, black]|\n",
            "|mazhab|{eye -> brown, ha...|  [brown, silky_black]|\n",
            "+------+--------------------+----------------------+\n",
            "\n"
          ]
        }
      ]
    },
    {
      "cell_type": "code",
      "source": [],
      "metadata": {
        "id": "TiKAq8z1AuhP"
      },
      "execution_count": null,
      "outputs": []
    }
  ]
}