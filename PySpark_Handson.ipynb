{
  "nbformat": 4,
  "nbformat_minor": 0,
  "metadata": {
    "colab": {
      "provenance": [],
      "authorship_tag": "ABX9TyNKB92RQddEbiHiAtYot/C+",
      "include_colab_link": true
    },
    "kernelspec": {
      "name": "python3",
      "display_name": "Python 3"
    },
    "language_info": {
      "name": "python"
    }
  },
  "cells": [
    {
      "cell_type": "markdown",
      "metadata": {
        "id": "view-in-github",
        "colab_type": "text"
      },
      "source": [
        "<a href=\"https://colab.research.google.com/github/MEHFUZ22/Pyspark/blob/main/PySpark_Handson.ipynb\" target=\"_parent\"><img src=\"https://colab.research.google.com/assets/colab-badge.svg\" alt=\"Open In Colab\"/></a>"
      ]
    },
    {
      "cell_type": "code",
      "execution_count": 3,
      "metadata": {
        "colab": {
          "base_uri": "https://localhost:8080/"
        },
        "id": "oILJKLeJdebD",
        "outputId": "35140221-68e5-4830-d5ef-28020a428b18"
      },
      "outputs": [
        {
          "output_type": "stream",
          "name": "stdout",
          "text": [
            "Collecting pyspark\n",
            "  Downloading pyspark-3.4.1.tar.gz (310.8 MB)\n",
            "\u001b[2K     \u001b[90m━━━━━━━━━━━━━━━━━━━━━━━━━━━━━━━━━━━━━━━\u001b[0m \u001b[32m310.8/310.8 MB\u001b[0m \u001b[31m2.1 MB/s\u001b[0m eta \u001b[36m0:00:00\u001b[0m\n",
            "\u001b[?25h  Preparing metadata (setup.py) ... \u001b[?25l\u001b[?25hdone\n",
            "Requirement already satisfied: py4j==0.10.9.7 in /usr/local/lib/python3.10/dist-packages (from pyspark) (0.10.9.7)\n",
            "Building wheels for collected packages: pyspark\n",
            "  Building wheel for pyspark (setup.py) ... \u001b[?25l\u001b[?25hdone\n",
            "  Created wheel for pyspark: filename=pyspark-3.4.1-py2.py3-none-any.whl size=311285387 sha256=c2c3500b29419f7e0f11f207103f8b4f1298f03c1bb4d4819cea55eaea3263a4\n",
            "  Stored in directory: /root/.cache/pip/wheels/0d/77/a3/ff2f74cc9ab41f8f594dabf0579c2a7c6de920d584206e0834\n",
            "Successfully built pyspark\n",
            "Installing collected packages: pyspark\n",
            "Successfully installed pyspark-3.4.1\n"
          ]
        }
      ],
      "source": [
        "pip install pyspark\n"
      ]
    },
    {
      "cell_type": "code",
      "source": [
        "from pyspark.sql import SparkSession\n",
        "spark=SparkSession.builder.appName('').getOrCreate()\n"
      ],
      "metadata": {
        "id": "DpEw-mmediHj"
      },
      "execution_count": 4,
      "outputs": []
    },
    {
      "cell_type": "code",
      "source": [
        "from pyspark.sql.types import *\n",
        "\n",
        "data=[(1,'Mehfuz'),(2,'Rahman')]\n",
        "schema=StructType([\n",
        "    StructField(name='id',dataType=IntegerType()),\n",
        "    StructField(name='name',dataType=StringType())\n",
        "    ])\n",
        "df=spark.createDataFrame(data=data,schema=schema)\n"
      ],
      "metadata": {
        "id": "7meSAXOPdo39"
      },
      "execution_count": 5,
      "outputs": []
    },
    {
      "cell_type": "code",
      "source": [
        "df.show()"
      ],
      "metadata": {
        "colab": {
          "base_uri": "https://localhost:8080/"
        },
        "id": "JfkTu5LLdqCK",
        "outputId": "43f6635c-d77f-4ef5-80a5-a68c5a6526b7"
      },
      "execution_count": 6,
      "outputs": [
        {
          "output_type": "stream",
          "name": "stdout",
          "text": [
            "+---+------+\n",
            "| id|  name|\n",
            "+---+------+\n",
            "|  1|Mehfuz|\n",
            "|  2|Rahman|\n",
            "+---+------+\n",
            "\n"
          ]
        }
      ]
    },
    {
      "cell_type": "code",
      "source": [
        "df.printSchema()"
      ],
      "metadata": {
        "colab": {
          "base_uri": "https://localhost:8080/"
        },
        "id": "7UQsrEWIdvVD",
        "outputId": "3d4d45dd-2491-4511-f3d3-9e53cf3e0038"
      },
      "execution_count": 7,
      "outputs": [
        {
          "output_type": "stream",
          "name": "stdout",
          "text": [
            "root\n",
            " |-- id: integer (nullable = true)\n",
            " |-- name: string (nullable = true)\n",
            "\n"
          ]
        }
      ]
    },
    {
      "cell_type": "code",
      "source": [
        "##Second Lesson"
      ],
      "metadata": {
        "id": "wRt-qYwtdxmh"
      },
      "execution_count": 8,
      "outputs": []
    },
    {
      "cell_type": "code",
      "source": [
        "df=spark.read.csv('emp1.csv',header=True)\n",
        "df.show()\n",
        "df.printSchema()"
      ],
      "metadata": {
        "colab": {
          "base_uri": "https://localhost:8080/"
        },
        "id": "EDjikKBBfGcq",
        "outputId": "9bccdc41-285a-42f9-e301-120e13bc4738"
      },
      "execution_count": 10,
      "outputs": [
        {
          "output_type": "stream",
          "name": "stdout",
          "text": [
            "+---+------+------+------+\n",
            "| id|  name|gender|salary|\n",
            "+---+------+------+------+\n",
            "|  1|Mehfuz|  Male|  1000|\n",
            "|  2|Mazhab|  Male|  1000|\n",
            "+---+------+------+------+\n",
            "\n",
            "root\n",
            " |-- id: string (nullable = true)\n",
            " |-- name: string (nullable = true)\n",
            " |-- gender: string (nullable = true)\n",
            " |-- salary: string (nullable = true)\n",
            "\n"
          ]
        }
      ]
    },
    {
      "cell_type": "code",
      "source": [
        "schema=StructType().add('id',IntegerType())\\\n",
        "                    .add('name',StringType())\\\n",
        "                    .add('gender',StringType())\\\n",
        "                    .add('salary',IntegerType())\\\n",
        "\n",
        "\n",
        "df=spark.read.csv(['emp1.csv','emp2.csv'],schema=schema,header=True)\n",
        "df.show()\n",
        "df.printSchema()"
      ],
      "metadata": {
        "colab": {
          "base_uri": "https://localhost:8080/"
        },
        "id": "rP0XJ1duhgIh",
        "outputId": "523bc6ac-2287-44d8-c441-cb3925d9b792"
      },
      "execution_count": 11,
      "outputs": [
        {
          "output_type": "stream",
          "name": "stdout",
          "text": [
            "+---+-------+------+------+\n",
            "| id|   name|gender|salary|\n",
            "+---+-------+------+------+\n",
            "|  1| Mehfuz|  Male|  1000|\n",
            "|  2| Mazhab|  Male|  1000|\n",
            "|  1|Bharath|  Male|  1000|\n",
            "|  2|  Vinay|  Male|  1000|\n",
            "+---+-------+------+------+\n",
            "\n",
            "root\n",
            " |-- id: integer (nullable = true)\n",
            " |-- name: string (nullable = true)\n",
            " |-- gender: string (nullable = true)\n",
            " |-- salary: integer (nullable = true)\n",
            "\n"
          ]
        }
      ]
    },
    {
      "cell_type": "code",
      "source": [
        "df.write.csv(\"new_emp\",header=True)"
      ],
      "metadata": {
        "id": "qpeMiPOih8bY"
      },
      "execution_count": 14,
      "outputs": []
    },
    {
      "cell_type": "code",
      "source": [
        "from pyspark.sql.functions import col,lit"
      ],
      "metadata": {
        "id": "yr7rbL1maiiv"
      },
      "execution_count": 16,
      "outputs": []
    },
    {
      "cell_type": "code",
      "source": [
        "df2=spark.read.csv('emp1.csv',header=True)"
      ],
      "metadata": {
        "id": "ulD2QYCafl3A"
      },
      "execution_count": 19,
      "outputs": []
    },
    {
      "cell_type": "code",
      "source": [
        "df2.show()\n",
        "df2.printSchema()"
      ],
      "metadata": {
        "colab": {
          "base_uri": "https://localhost:8080/"
        },
        "id": "zyODCtbBgCKW",
        "outputId": "d5dd5d99-f6f5-49cb-d448-e2f477f19a6e"
      },
      "execution_count": 21,
      "outputs": [
        {
          "output_type": "stream",
          "name": "stdout",
          "text": [
            "+---+------+------+------+\n",
            "| id|  name|gender|salary|\n",
            "+---+------+------+------+\n",
            "|  1|Mehfuz|  Male|  1000|\n",
            "|  2|Mazhab|  Male|  1000|\n",
            "+---+------+------+------+\n",
            "\n",
            "root\n",
            " |-- id: string (nullable = true)\n",
            " |-- name: string (nullable = true)\n",
            " |-- gender: string (nullable = true)\n",
            " |-- salary: string (nullable = true)\n",
            "\n"
          ]
        }
      ]
    },
    {
      "cell_type": "code",
      "source": [
        "df2=df2.withColumn('salary',col('salary').cast('Integer'))"
      ],
      "metadata": {
        "id": "cQnMPrU2gEhy"
      },
      "execution_count": 26,
      "outputs": []
    },
    {
      "cell_type": "code",
      "source": [
        "df2.printSchema()"
      ],
      "metadata": {
        "colab": {
          "base_uri": "https://localhost:8080/"
        },
        "id": "cmndYb9qgbq5",
        "outputId": "fefc7456-01a4-4734-a53c-2e99b90859e3"
      },
      "execution_count": 27,
      "outputs": [
        {
          "output_type": "stream",
          "name": "stdout",
          "text": [
            "root\n",
            " |-- id: string (nullable = true)\n",
            " |-- name: string (nullable = true)\n",
            " |-- gender: string (nullable = true)\n",
            " |-- salary: integer (nullable = true)\n",
            "\n"
          ]
        }
      ]
    },
    {
      "cell_type": "code",
      "source": [
        "df2=df2.withColumn('salary',col('salary')*2)\n",
        "df2.show()"
      ],
      "metadata": {
        "colab": {
          "base_uri": "https://localhost:8080/"
        },
        "id": "dNUlywghgsZX",
        "outputId": "844a8e88-13c8-48ec-8ad3-68f5deccdeeb"
      },
      "execution_count": 30,
      "outputs": [
        {
          "output_type": "stream",
          "name": "stdout",
          "text": [
            "+---+------+------+------+\n",
            "| id|  name|gender|salary|\n",
            "+---+------+------+------+\n",
            "|  1|Mehfuz|  Male|  4000|\n",
            "|  2|Mazhab|  Male|  4000|\n",
            "+---+------+------+------+\n",
            "\n"
          ]
        }
      ]
    },
    {
      "cell_type": "code",
      "source": [
        "def even(sal):\n",
        "  if sal%2==0:\n",
        "    return sal\n",
        "  else:\n",
        "    return None"
      ],
      "metadata": {
        "id": "K3tsBneciAMm"
      },
      "execution_count": 33,
      "outputs": []
    },
    {
      "cell_type": "code",
      "source": [
        "from pyspark.sql.functions import udf\n",
        "even=udf(even,IntegerType())"
      ],
      "metadata": {
        "id": "NoRiLwWDjAjJ"
      },
      "execution_count": 36,
      "outputs": []
    },
    {
      "cell_type": "code",
      "source": [
        "df2.withColumn('salary',even(df2['salary']))\n",
        "df2.show()"
      ],
      "metadata": {
        "colab": {
          "base_uri": "https://localhost:8080/"
        },
        "id": "Z8r4Kz6ziOhR",
        "outputId": "8fa42678-8e80-43e8-ba6b-f3dc371a84f5"
      },
      "execution_count": 40,
      "outputs": [
        {
          "output_type": "stream",
          "name": "stdout",
          "text": [
            "+---+------+------+------+\n",
            "| id|  name|gender|salary|\n",
            "+---+------+------+------+\n",
            "|  1|Mehfuz|  Male|  4000|\n",
            "|  2|Mazhab|  Male|  4000|\n",
            "+---+------+------+------+\n",
            "\n"
          ]
        }
      ]
    },
    {
      "cell_type": "code",
      "source": [
        "df2=df2.withColumn('country',lit('India'))"
      ],
      "metadata": {
        "id": "Jwjt_NwPiXRp"
      },
      "execution_count": 47,
      "outputs": []
    },
    {
      "cell_type": "code",
      "source": [
        "df2.show()"
      ],
      "metadata": {
        "colab": {
          "base_uri": "https://localhost:8080/"
        },
        "id": "V2TO4eq5j4A5",
        "outputId": "9ccb26d1-2236-428b-b6fc-af7fea9936a0"
      },
      "execution_count": 48,
      "outputs": [
        {
          "output_type": "stream",
          "name": "stdout",
          "text": [
            "+---+------+------+------+-------+\n",
            "| id|  name|gender|salary|country|\n",
            "+---+------+------+------+-------+\n",
            "|  1|Mehfuz|  Male|  4000|  India|\n",
            "|  2|Mazhab|  Male|  4000|  India|\n",
            "+---+------+------+------+-------+\n",
            "\n"
          ]
        }
      ]
    },
    {
      "cell_type": "code",
      "source": [
        "# Sample DataFrame\n",
        "data = [(1, \"100\", \"2023-09-17\"), (2, \"200\", \"2023-09-18\")]\n",
        "columns = [\"id\", \"amount\", \"date\"]\n",
        "df = spark.createDataFrame(data, columns)\n",
        "\n",
        "# Define the new data types\n",
        "new_data_types = {\n",
        "    \"id\": \"double\",\n",
        "    \"amount\": \"integer\",\n",
        "    \"date\": \"date\"\n",
        "}\n",
        "\n",
        "# Convert the columns to the new data types\n",
        "for column, new_type in new_data_types.items():\n",
        "    df = df.withColumn(column, col(column).cast(new_type))\n",
        "\n",
        "# Show the DataFrame with updated data types\n",
        "df.printSchema()\n",
        "df.show()\n"
      ],
      "metadata": {
        "colab": {
          "base_uri": "https://localhost:8080/"
        },
        "id": "JTnAdC25j-zP",
        "outputId": "dd4f9b45-e754-4357-d0ae-4a2b712c4d31"
      },
      "execution_count": 49,
      "outputs": [
        {
          "output_type": "stream",
          "name": "stdout",
          "text": [
            "root\n",
            " |-- id: double (nullable = true)\n",
            " |-- amount: integer (nullable = true)\n",
            " |-- date: date (nullable = true)\n",
            "\n",
            "+---+------+----------+\n",
            "| id|amount|      date|\n",
            "+---+------+----------+\n",
            "|1.0|   100|2023-09-17|\n",
            "|2.0|   200|2023-09-18|\n",
            "+---+------+----------+\n",
            "\n"
          ]
        }
      ]
    },
    {
      "cell_type": "code",
      "source": [],
      "metadata": {
        "id": "Z5pgFfWVl0W6"
      },
      "execution_count": null,
      "outputs": []
    }
  ]
}